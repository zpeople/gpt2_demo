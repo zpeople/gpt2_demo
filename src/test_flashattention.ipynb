{
 "cells": [
  {
   "cell_type": "code",
   "execution_count": null,
   "id": "5a9da499",
   "metadata": {},
   "outputs": [],
   "source": [
    "import time\n",
    "import torch\n",
    "import torch.nn.functional as F\n",
    "\n",
    "\n",
    "def test_flashattention():\n",
    "    repeat = 100\n",
    "    device = torch.device(\"cuda:0\")\n",
    "    dtype = torch.float16\n",
    "\n",
    "    query = torch.rand(32, 8, 128, 64, dtype=dtype, device=device)\n",
    "    key = torch.rand(32, 8, 128, 64, dtype=dtype, device=device)\n",
    "    value = torch.rand(32, 8, 128, 64, dtype=dtype, device=device)\n",
    "    scale_factor = 0.125\n",
    "\n",
    "    ori_time_list = []\n",
    "    for _ in range(repeat):\n",
    "        torch.cuda.synchronize(device=device)\n",
    "        time_start = time.perf_counter()\n",
    "        # 原始Self-Attention实现\n",
    "        res = torch.softmax(query @ key.transpose(-2, -1) * scale_factor, dim=-1) @ value\n",
    "        torch.cuda.synchronize(device=device)\n",
    "        time_end = time.perf_counter()\n",
    "        ori_time_list.append(time_end - time_start)\n",
    "\n",
    "    fa_time_list = []\n",
    "    for _ in range(repeat):\n",
    "        torch.cuda.synchronize(device=device)\n",
    "        time_start = time.perf_counter()\n",
    "        with torch.backends.cuda.sdp_kernel(enable_math=False):\n",
    "            # 使用Pytorch官方提供的FA实现\n",
    "            res_fa = F.scaled_dot_product_attention(query, key, value, scale=scale_factor)\n",
    "        torch.cuda.synchronize(device=device)\n",
    "        time_end = time.perf_counter()\n",
    "        fa_time_list.append(time_end - time_start)\n",
    "\n",
    "    diff = (res - res_fa).abs().max()\n",
    "    ratio = [ori_time_list[i] / fa_time_list[i] for i in range(repeat)]\n",
    "    avg_ratio = sum(ratio[1:]) / len(ratio[1:])\n",
    "    print(f\"max diff: {diff}\")\n",
    "    print(f\"avg speed up ratio: {avg_ratio}\")\n",
    "\n",
    "\n",
    "\n"
   ]
  },
  {
   "cell_type": "code",
   "execution_count": null,
   "id": "bd1321ed",
   "metadata": {},
   "outputs": [],
   "source": [
    "test_flashattention()"
   ]
  },
  {
   "cell_type": "code",
   "execution_count": null,
   "id": "cfb2d442",
   "metadata": {},
   "outputs": [],
   "source": []
  }
 ],
 "metadata": {
  "kernelspec": {
   "display_name": "text310",
   "language": "python",
   "name": "python3"
  },
  "language_info": {
   "codemirror_mode": {
    "name": "ipython",
    "version": 3
   },
   "file_extension": ".py",
   "mimetype": "text/x-python",
   "name": "python",
   "nbconvert_exporter": "python",
   "pygments_lexer": "ipython3",
   "version": "3.10.16"
  }
 },
 "nbformat": 4,
 "nbformat_minor": 5
}
