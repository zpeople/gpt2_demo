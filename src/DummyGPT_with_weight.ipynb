{
 "cells": [
  {
   "cell_type": "markdown",
   "id": "8207122a",
   "metadata": {},
   "source": [
    "# GPT-2 Model with OPENAI model's weights\n"
   ]
  },
  {
   "cell_type": "code",
   "execution_count": null,
   "id": "865f44de",
   "metadata": {},
   "outputs": [],
   "source": [
    "\n",
    "import torch\n",
    "import torch.nn as nn\n",
    "torch.manual_seed(42)\n",
    "import tool ,model_wrapper\n",
    "from tqdm import tqdm\n",
    "import tiktoken\n",
    "from transformers import GPT2LMHeadModel"
   ]
  },
  {
   "cell_type": "markdown",
   "id": "55e16e88",
   "metadata": {},
   "source": [
    "### Config"
   ]
  },
  {
   "cell_type": "code",
   "execution_count": null,
   "id": "5e81c44d",
   "metadata": {},
   "outputs": [],
   "source": [
    "IS_SKIP_TEST =True\n",
    "IS_EN =True\n",
    "IS_TRAIN=True\n",
    "\n",
    "\n",
    "GPT_CONFIG = {\n",
    "    \"num_epochs\":10,\n",
    "    \"batch_size\":4,\n",
    "    \"vocab_size\": 50257,     # 词汇表大小\n",
    "    \"context_len\": 512,  # 上下文长度\n",
    "    \"emb_dim\": 768,          # 嵌入维度\n",
    "    \"n_heads\": 8,           # 注意力头的数量\n",
    "    \"n_layers\": 12,          # 层数\n",
    "    \"drop_rate\": 0.1,        # dropout率\n",
    "    \"qkv_bias\": False ,      # 查询-键-值偏置\n",
    "}\n",
    "\n",
    "TOKEN_TYPE=\"gpt2\"\n",
    "# TOKEN_TYPE=\"cl100k_base\"\n",
    "LR= 1e-3\n",
    "WEIGHT_DECAY =0.1\n"
   ]
  },
  {
   "cell_type": "markdown",
   "id": "217e2af6",
   "metadata": {},
   "source": [
    "### Set device to (type='cuda')"
   ]
  },
  {
   "cell_type": "code",
   "execution_count": null,
   "id": "2cb94447",
   "metadata": {},
   "outputs": [],
   "source": [
    "device = torch.device(\"cuda\" if torch.cuda.is_available() else \"cpu\")\n",
    "device"
   ]
  },
  {
   "cell_type": "markdown",
   "id": "f9e411c4",
   "metadata": {},
   "source": [
    "## Define GPT-2 Model"
   ]
  },
  {
   "cell_type": "code",
   "execution_count": null,
   "id": "8f689863",
   "metadata": {},
   "outputs": [],
   "source": [
    "class GPTModel(nn.Module):\n",
    "    def __init__(self,cfg):\n",
    "        super().__init__()\n",
    "        self.tok_emb = nn.Embedding(cfg['vocab_size'],cfg['emb_dim'])\n",
    "        self.pos_emb = nn.Embedding(cfg['context_len'],cfg['emb_dim'])\n",
    "        self.drop_emb = nn.Dropout(cfg[\"drop_rate\"])\n",
    "        self.trf_blocks =  nn.Sequential(\n",
    "            *[model_wrapper.TransformerBlock(cfg) for _ in range(cfg[\"n_layers\"])]\n",
    "        )\n",
    "        self.final_norm = model_wrapper.LayerNorm(cfg[\"emb_dim\"])\n",
    "        self.out_head = nn.Linear(\n",
    "            cfg['emb_dim'],cfg['vocab_size'],bias=False\n",
    "        )\n",
    "       \n",
    "    def forward(self,in_idx):\n",
    "        batch_size, seq_len = in_idx.shape  \n",
    "        tok_embeds = self.tok_emb(in_idx) \n",
    "        pos_embeds = self.pos_emb(torch.arange(seq_len,device=in_idx.device))  \n",
    "        x = tok_embeds + pos_embeds\n",
    "        x = self.drop_emb(x)\n",
    "        x = self.trf_blocks(x)\n",
    "        x = self.final_norm(x)\n",
    "        logits = self.out_head(x)\n",
    "        return logits\n",
    "        "
   ]
  },
  {
   "cell_type": "markdown",
   "id": "a7e8ead4",
   "metadata": {},
   "source": [
    "## Load weights"
   ]
  },
  {
   "cell_type": "code",
   "execution_count": null,
   "id": "6387c98d",
   "metadata": {},
   "outputs": [],
   "source": [
    "def load_openai_weights(model, model_size=\"small\"):\n",
    "    # 加载Hugging Face的官方GPT-2模型（包含OpenAI权重）\n",
    "    official_model = GPT2LMHeadModel.from_pretrained(f\"gpt2-{model_size}\")\n",
    "    official_state_dict = official_model.state_dict()\n",
    "    \n",
    "    # 自定义模型的状态字典\n",
    "    custom_state_dict = model.state_dict()\n",
    "    \n",
    "    # 1. 映射嵌入层权重\n",
    "    custom_state_dict[\"wte.weight\"] = official_state_dict[\"transformer.wte.weight\"]\n",
    "    custom_state_dict[\"wpe.weight\"] = official_state_dict[\"transformer.wpe.weight\"]\n",
    "    \n",
    "    # 2. 映射Transformer层权重（每个block的参数）\n",
    "    for i in range(model.config.n_layer):\n",
    "        # 自注意力层\n",
    "        custom_state_dict[f\"h.{i}.attn.c_attn.weight\"] = official_state_dict[f\"transformer.h.{i}.attn.c_attn.weight\"]\n",
    "        custom_state_dict[f\"h.{i}.attn.c_attn.bias\"] = official_state_dict[f\"transformer.h.{i}.attn.c_attn.bias\"]\n",
    "        custom_state_dict[f\"h.{i}.attn.c_proj.weight\"] = official_state_dict[f\"transformer.h.{i}.attn.c_proj.weight\"]\n",
    "        custom_state_dict[f\"h.{i}.attn.c_proj.bias\"] = official_state_dict[f\"transformer.h.{i}.attn.c_proj.bias\"]\n",
    "        custom_state_dict[f\"h.{i}.attn.ln_1.weight\"] = official_state_dict[f\"transformer.h.{i}.ln_1.weight\"]\n",
    "        custom_state_dict[f\"h.{i}.attn.ln_1.bias\"] = official_state_dict[f\"transformer.h.{i}.ln_1.bias\"]\n",
    "        \n",
    "        # 前馈网络层\n",
    "        custom_state_dict[f\"h.{i}.mlp.c_fc.weight\"] = official_state_dict[f\"transformer.h.{i}.mlp.c_fc.weight\"]\n",
    "        custom_state_dict[f\"h.{i}.mlp.c_fc.bias\"] = official_state_dict[f\"transformer.h.{i}.mlp.c_fc.bias\"]\n",
    "        custom_state_dict[f\"h.{i}.mlp.c_proj.weight\"] = official_state_dict[f\"transformer.h.{i}.mlp.c_proj.weight\"]\n",
    "        custom_state_dict[f\"h.{i}.mlp.c_proj.bias\"] = official_state_dict[f\"transformer.h.{i}.mlp.c_proj.bias\"]\n",
    "        custom_state_dict[f\"h.{i}.mlp.ln_2.weight\"] = official_state_dict[f\"transformer.h.{i}.ln_2.weight\"]\n",
    "        custom_state_dict[f\"h.{i}.mlp.ln_2.bias\"] = official_state_dict[f\"transformer.h.{i}.ln_2.bias\"]\n",
    "    \n",
    "    # 3. 映射最终层归一化和输出层\n",
    "    custom_state_dict[\"ln_f.weight\"] = official_state_dict[\"transformer.ln_f.weight\"]\n",
    "    custom_state_dict[\"ln_f.bias\"] = official_state_dict[\"transformer.ln_f.bias\"]\n",
    "    # 注意：lm_head与wte共享权重，无需额外映射\n",
    "    \n",
    "    # 加载映射后的权重到自定义模型\n",
    "    \n",
    "    model.load_state_dict(custom_state_dict)\n",
    "    return model"
   ]
  },
  {
   "cell_type": "code",
   "execution_count": null,
   "id": "844d197f",
   "metadata": {},
   "outputs": [],
   "source": [
    "model = GPTModel(GPT_CONFIG)\n",
    "load_openai_weights(model)\n",
    "model.to(device)\n",
    "model.eval() \n",
    "tokenizer = tiktoken.get_encoding(TOKEN_TYPE)\n",
    "start_context = 'this is test'  \n",
    "for _ in range(5):\n",
    "    model_wrapper.generate_and_print(model,tokenizer,device,start_context,100)"
   ]
  },
  {
   "cell_type": "markdown",
   "id": "829ed6a9",
   "metadata": {},
   "source": [
    "## Save and load the parameters of the model\n",
    "### Save model"
   ]
  },
  {
   "cell_type": "code",
   "execution_count": null,
   "id": "ff1b0aaa",
   "metadata": {},
   "outputs": [],
   "source": [
    "# modelpath ='../model/model_and_optimizer.pth'\n",
    "# model_wrapper.savemodel(modelpath,model,optimizer)\n"
   ]
  }
 ],
 "metadata": {
  "kernelspec": {
   "display_name": "DL_py",
   "language": "python",
   "name": "python3"
  },
  "language_info": {
   "codemirror_mode": {
    "name": "ipython",
    "version": 3
   },
   "file_extension": ".py",
   "mimetype": "text/x-python",
   "name": "python",
   "nbconvert_exporter": "python",
   "pygments_lexer": "ipython3",
   "version": "3.10.16"
  }
 },
 "nbformat": 4,
 "nbformat_minor": 5
}
