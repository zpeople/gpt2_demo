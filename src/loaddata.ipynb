{
 "cells": [
  {
   "cell_type": "code",
   "execution_count": null,
   "id": "b62d732d",
   "metadata": {},
   "outputs": [],
   "source": [
    "from datasets import load_dataset,load_from_disk\n",
    "\n",
    "# ds = load_dataset(\"pleisto/wikipedia-cn-20230720-filtered\")\n",
    "\n",
    "# ds.save_to_disk(\"../datasets/wikipedia\") "
   ]
  },
  {
   "cell_type": "code",
   "execution_count": null,
   "id": "d0fb81c9",
   "metadata": {},
   "outputs": [],
   "source": [
    "def load_local_data():\n",
    "    dataset = load_from_disk(\"../datasets/wikipedia\")\n",
    "\n",
    "    # 如果是多拆分数据集（DatasetDict类型，如包含train/test）\n",
    "    print(dataset.keys())\n",
    "\n",
    "    train_df = dataset[\"train\"].to_pandas()\n",
    "    print( train_df.head(5))\n",
    "\n",
    "    completion_list = train_df[\"completion\"].tolist()\n",
    "    print(len(completion_list))\n",
    "    \n",
    "    return completion_list"
   ]
  },
  {
   "cell_type": "code",
   "execution_count": null,
   "id": "c8fe2b8d",
   "metadata": {},
   "outputs": [],
   "source": [
    "print('load local data:')\n",
    "load_local_data()"
   ]
  },
  {
   "cell_type": "markdown",
   "id": "4891e70f",
   "metadata": {},
   "source": [
    "### load  txt of en"
   ]
  },
  {
   "cell_type": "code",
   "execution_count": null,
   "id": "ce2ab6fd",
   "metadata": {},
   "outputs": [],
   "source": [
    "# en txt for debug\n",
    "\n",
    "def load_data_en(file_path,train_ratio=0.8):\n",
    "    with open (file_path,\"r\",encoding=\"utf-8\") as file:\n",
    "        text_data =file.read()\n",
    "        \n",
    "    print(f'total char: {len(text_data)}') #character count\n",
    "    \n",
    "    split_idx = int(train_ratio*len(text_data))\n",
    "    train_data = text_data[:split_idx]\n",
    "    valid_data = text_data[split_idx:]\n",
    "    print(f'train char: {len(train_data)}\\nvalid char: {len(valid_data)} \\n')\n",
    "    return [train_data], [valid_data]"
   ]
  },
  {
   "cell_type": "markdown",
   "id": "eaac8121",
   "metadata": {},
   "source": [
    "### load  txt of cn"
   ]
  },
  {
   "cell_type": "code",
   "execution_count": null,
   "id": "d52d93fd",
   "metadata": {},
   "outputs": [],
   "source": [
    "def load_data_cn(part=False,train_ratio=0.8):\n",
    "    txts = load_local_data()\n",
    "    if part:\n",
    "        txts =txts[:10]\n",
    "    len(txts)\n",
    "    split_idx = int(train_ratio*len(txts))\n",
    "    train_data = txts[:split_idx]\n",
    "    valid_data = txts[split_idx:]\n",
    "    print(f'train sentence: {len(train_data)}\\nvalid sentence: {len(valid_data)} \\n')\n",
    "    return train_data,valid_data"
   ]
  }
 ],
 "metadata": {
  "kernelspec": {
   "display_name": "DL_py",
   "language": "python",
   "name": "python3"
  },
  "language_info": {
   "codemirror_mode": {
    "name": "ipython",
    "version": 3
   },
   "file_extension": ".py",
   "mimetype": "text/x-python",
   "name": "python",
   "nbconvert_exporter": "python",
   "pygments_lexer": "ipython3",
   "version": "3.10.16"
  }
 },
 "nbformat": 4,
 "nbformat_minor": 5
}
