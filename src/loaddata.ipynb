{
 "cells": [
  {
   "cell_type": "code",
   "execution_count": 9,
   "id": "b62d732d",
   "metadata": {},
   "outputs": [],
   "source": [
    "from datasets import load_dataset,load_from_disk\n",
    "\n",
    "# ds = load_dataset(\"pleisto/wikipedia-cn-20230720-filtered\")\n",
    "\n",
    "# ds.save_to_disk(\"../datasets/wikipedia\") "
   ]
  },
  {
   "cell_type": "code",
   "execution_count": 16,
   "id": "d0fb81c9",
   "metadata": {},
   "outputs": [],
   "source": [
    "def load_local_data():\n",
    "    dataset = load_from_disk(\"../datasets/wikipedia\")\n",
    "\n",
    "    # 如果是多拆分数据集（DatasetDict类型，如包含train/test）\n",
    "    print(dataset.keys())\n",
    "\n",
    "    train_df = dataset[\"train\"].to_pandas()\n",
    "    print( train_df.head(5))\n",
    "\n",
    "    completion_list = train_df[\"completion\"].tolist()\n",
    "    print(len(completion_list))\n",
    "    \n",
    "    return completion_list"
   ]
  },
  {
   "cell_type": "code",
   "execution_count": 17,
   "id": "c8fe2b8d",
   "metadata": {},
   "outputs": [
    {
     "name": "stdout",
     "output_type": "stream",
     "text": [
      "dict_keys(['train'])\n",
      "                                          completion            source\n",
      "0  昭通机场（ZPZT）是位于中国云南昭通的民用机场，始建于1935年，1960年3月开通往返航...  wikipedia.zh2307\n",
      "1  我的英雄学院：英雄新世纪\\n《我的英雄学院剧场版：英雄新世纪》（仆のヒーローアカデミア TH...  wikipedia.zh2307\n",
      "2  黄大仙文化公园（Wong Tai Sin Culture Park）是香港一个公园，位于九龙...  wikipedia.zh2307\n",
      "3  佐洛奇夫（Zolochiv），或按俄语译为佐洛乔夫（Золочев），是乌克兰西部利沃夫州佐...  wikipedia.zh2307\n",
      "4  陈准，字道基，颍川郡许昌（今河南许昌）人。西晋官员。官至太尉。出身颍川陈氏，青州刺史陈佐之子...  wikipedia.zh2307\n",
      "254547\n",
      "load data\n"
     ]
    }
   ],
   "source": [
    "load_local_data()\n",
    "print('load data')"
   ]
  },
  {
   "cell_type": "code",
   "execution_count": null,
   "id": "ce2ab6fd",
   "metadata": {},
   "outputs": [],
   "source": []
  }
 ],
 "metadata": {
  "kernelspec": {
   "display_name": "DL_py",
   "language": "python",
   "name": "python3"
  },
  "language_info": {
   "codemirror_mode": {
    "name": "ipython",
    "version": 3
   },
   "file_extension": ".py",
   "mimetype": "text/x-python",
   "name": "python",
   "nbconvert_exporter": "python",
   "pygments_lexer": "ipython3",
   "version": "3.10.16"
  }
 },
 "nbformat": 4,
 "nbformat_minor": 5
}
