{
 "cells": [
  {
   "cell_type": "code",
   "execution_count": 67,
   "id": "c9b6ff5a",
   "metadata": {},
   "outputs": [
    {
     "name": "stdout",
     "output_type": "stream",
     "text": [
      "cuda\n",
      "torch.float16\n",
      "torch.float32\n",
      "torch.float32\n",
      "输出张量精度: torch.float32\n"
     ]
    }
   ],
   "source": [
    "import torch\n",
    "import torch.nn as nn\n",
    "from torch.amp import autocast, GradScaler\n",
    "\n",
    "# 自定义层：基于PyTorch张量操作实现\n",
    "class CustomLayer(nn.Module):\n",
    "    def __init__(self, in_features, out_features):\n",
    "        super().__init__()\n",
    "        self.weight = nn.Parameter(torch.randn(out_features, in_features))\n",
    "        self.bias = nn.Parameter(torch.randn(out_features))\n",
    "    \n",
    "    def forward(self, x):\n",
    "        # 自定义操作：矩阵乘法 + 偏置 + 自定义激活\n",
    "        x = torch.matmul(x, self.weight.t())  # 矩阵乘法\n",
    "        print(x.dtype)\n",
    "        x = x + self.bias  # 加偏置\n",
    "        print(x.dtype)\n",
    "        x = torch.clamp(x, min=0.01)  # 自定义激活\n",
    "        print(x.dtype)\n",
    "        return x\n",
    "\n",
    "# 测试混合精度是否生效\n",
    "device = torch.device(\"cuda\" if torch.cuda.is_available() else \"cpu\")\n",
    "print(device.type)\n",
    "model = CustomLayer(10, 5).to(device)\n",
    "input_tensor = torch.randn(32, 10).to(device)\n",
    "\n",
    "# 混合精度前向传播\n",
    "with autocast(device.type):\n",
    "    output = model(input_tensor)\n",
    "    print(\"输出张量精度:\", output.dtype)  # 输出: torch.float16（默认低精度）"
   ]
  },
  {
   "cell_type": "code",
   "execution_count": null,
   "id": "e8f0c8bd",
   "metadata": {},
   "outputs": [
    {
     "name": "stdout",
     "output_type": "stream",
     "text": [
      "\n",
      "保存float32模型完成\n",
      "保存float16模型完成\n",
      "\n",
      "验证保存的模型精度:\n",
      "float32模型权重精度: torch.float32\n",
      "float16模型权重精度: torch.float16\n"
     ]
    },
    {
     "data": {
      "text/plain": [
       "CustomLayer()"
      ]
     },
     "execution_count": 68,
     "metadata": {},
     "output_type": "execute_result"
    }
   ],
   "source": [
    "    # 定义模型文件路径\n",
    "fp32_path = \"model_float32.pt\"\n",
    "fp16_path = \"model_float16.pt\"\n",
    "\n",
    "# 保存模型为float32精度（默认）\n",
    "torch.save(model.state_dict(), fp32_path)\n",
    "print(\"\\n保存float32模型完成\")\n",
    "# 将模型转换为float16并保存\n",
    "model_float16 = model.half()  # 转换所有参数为float16\n",
    "torch.save(model_float16.state_dict(), fp16_path)\n",
    "print(\"保存float16模型完成\")\n",
    "# 验证保存的模型精度\n",
    "print(\"\\n验证保存的模型精度:\")\n",
    "state_fp32 = torch.load(fp32_path)\n",
    "print(f\"float32模型权重精度: {state_fp32['weight'].dtype}\")\n",
    "state_fp16 = torch.load(fp16_path)\n",
    "print(f\"float16模型权重精度: {state_fp16['weight'].dtype}\")\n",
    "\n",
    "# 测试加载float16模型进行推理\n",
    "model_loaded = CustomLayer(10, 5).to(device)\n",
    "model_loaded.load_state_dict(torch.load(fp16_path))\n",
    "model_loaded.half()  # 确保模型处于float16模式 \n",
    "#无论load32还是16的模型，这儿转成了half，后面就要加autocast，否则维度不匹配\n"
   ]
  },
  {
   "cell_type": "code",
   "execution_count": 69,
   "id": "ec1c558b",
   "metadata": {},
   "outputs": [
    {
     "name": "stdout",
     "output_type": "stream",
     "text": [
      "torch.float16\n",
      "torch.float16\n",
      "torch.float16\n",
      "\n",
      "加载的float16模型输出精度: torch.float16\n"
     ]
    }
   ],
   "source": [
    "with autocast(device.type):\n",
    "    output_loaded = model_loaded(input_tensor)\n",
    "    print(f\"\\n加载的float16模型输出精度: {output_loaded.dtype}\")"
   ]
  },
  {
   "cell_type": "code",
   "execution_count": 70,
   "id": "9d808c91",
   "metadata": {},
   "outputs": [
    {
     "name": "stdout",
     "output_type": "stream",
     "text": [
      "\n",
      "已删除 model_float32.pt\n",
      "已删除 model_float16.pt\n"
     ]
    }
   ],
   "source": [
    "import os\n",
    "\n",
    "# 无论程序是否正常执行，都删除保存的模型文件\n",
    "if os.path.exists(fp32_path):\n",
    "    os.remove(fp32_path)\n",
    "    print(f\"\\n已删除 {fp32_path}\")\n",
    "if os.path.exists(fp16_path):\n",
    "    os.remove(fp16_path)\n",
    "    print(f\"已删除 {fp16_path}\")\n",
    "    "
   ]
  }
 ],
 "metadata": {
  "kernelspec": {
   "display_name": "DL_py",
   "language": "python",
   "name": "python3"
  },
  "language_info": {
   "codemirror_mode": {
    "name": "ipython",
    "version": 3
   },
   "file_extension": ".py",
   "mimetype": "text/x-python",
   "name": "python",
   "nbconvert_exporter": "python",
   "pygments_lexer": "ipython3",
   "version": "3.10.16"
  }
 },
 "nbformat": 4,
 "nbformat_minor": 5
}
