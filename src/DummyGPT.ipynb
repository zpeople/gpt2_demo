{
 "cells": [
  {
   "cell_type": "markdown",
   "id": "8207122a",
   "metadata": {},
   "source": [
    "# GPT Model\n"
   ]
  },
  {
   "cell_type": "code",
   "execution_count": 30,
   "id": "865f44de",
   "metadata": {},
   "outputs": [],
   "source": [
    "\n",
    "import torch\n",
    "import torch.nn as nn\n",
    "from torch.testing import assert_close\n",
    "torch.manual_seed(42)\n",
    "from torch.utils.data import DataLoader,Dataset\n",
    "import tool,loaddata\n",
    "from tqdm import tqdm\n",
    "\n"
   ]
  },
  {
   "cell_type": "code",
   "execution_count": 31,
   "id": "e804558c",
   "metadata": {},
   "outputs": [],
   "source": [
    "# ! pip install tqdm"
   ]
  },
  {
   "cell_type": "markdown",
   "id": "55e16e88",
   "metadata": {},
   "source": [
    "### config"
   ]
  },
  {
   "cell_type": "code",
   "execution_count": 32,
   "id": "5e81c44d",
   "metadata": {},
   "outputs": [],
   "source": [
    "IS_SKIP_TEST =True\n",
    "\n",
    "GPT_CONFIG = {\n",
    "    \"num_epochs\":10,\n",
    "    \"batch_size\":8,\n",
    "    \"vocab_size\":100261, #50257,      # 词汇表大小\n",
    "    \"context_len\": 256,  # 上下文长度\n",
    "    \"emb_dim\": 512,          # 嵌入维度\n",
    "    \"n_heads\": 8,           # 注意力头的数量\n",
    "    \"n_layers\": 6,          # 层数\n",
    "    \"drop_rate\": 0.1,        # dropout率\n",
    "    \"qkv_bias\": False ,      # 查询-键-值偏置\n",
    "}\n",
    "\n",
    "TOKEN_TYPE=\"gpt2\"\n",
    "TOKEN_TYPE=\"cl100k_base\"\n",
    "\n",
    "LR= 4e-3\n",
    "WEIGHT_DECAY =0.1\n",
    "\n",
    "EVAL_FREQ = 50\n",
    "EVAL_ITER = 50\n"
   ]
  },
  {
   "cell_type": "code",
   "execution_count": 33,
   "id": "d784ca60",
   "metadata": {},
   "outputs": [
    {
     "name": "stdout",
     "output_type": "stream",
     "text": [
      "Tue Aug 12 19:31:20 2025       \n",
      "+-----------------------------------------------------------------------------------------+\n",
      "| NVIDIA-SMI 555.59                 Driver Version: 561.19         CUDA Version: 12.6     |\n",
      "|-----------------------------------------+------------------------+----------------------+\n",
      "| GPU  Name                 Persistence-M | Bus-Id          Disp.A | Volatile Uncorr. ECC |\n",
      "| Fan  Temp   Perf          Pwr:Usage/Cap |           Memory-Usage | GPU-Util  Compute M. |\n",
      "|                                         |                        |               MIG M. |\n",
      "|=========================================+========================+======================|\n",
      "|   0  NVIDIA GeForce RTX 3070 ...    On  |   00000000:01:00.0 Off |                  N/A |\n",
      "| N/A   69C    P8             18W /  140W |    5733MiB /   8192MiB |      0%      Default |\n",
      "|                                         |                        |                  N/A |\n",
      "+-----------------------------------------+------------------------+----------------------+\n",
      "                                                                                         \n",
      "+-----------------------------------------------------------------------------------------+\n",
      "| Processes:                                                                              |\n",
      "|  GPU   GI   CI        PID   Type   Process name                              GPU Memory |\n",
      "|        ID   ID                                                               Usage      |\n",
      "|=========================================================================================|\n",
      "|  No running processes found                                                             |\n",
      "+-----------------------------------------------------------------------------------------+\n"
     ]
    }
   ],
   "source": [
    "! nvidia-smi"
   ]
  },
  {
   "cell_type": "code",
   "execution_count": 34,
   "id": "2cb94447",
   "metadata": {},
   "outputs": [
    {
     "data": {
      "text/plain": [
       "device(type='cuda')"
      ]
     },
     "execution_count": 34,
     "metadata": {},
     "output_type": "execute_result"
    }
   ],
   "source": [
    "device = torch.device(\"cuda\" if torch.cuda.is_available() else \"cpu\")\n",
    "device"
   ]
  },
  {
   "cell_type": "markdown",
   "id": "edccb80e",
   "metadata": {},
   "source": [
    "## Define Test Model"
   ]
  },
  {
   "cell_type": "code",
   "execution_count": 35,
   "id": "6e693144",
   "metadata": {},
   "outputs": [],
   "source": [
    "\n",
    "class DummyTransformerBlock(nn.Module):\n",
    "    def __init__(self, cfg):\n",
    "        super().__init__()\n",
    "    \n",
    "    def forward(self,x):\n",
    "        return x\n",
    "    \n",
    "class DummyLayerNorm(nn.Module):\n",
    "    def __init__(self, norm_shape,eps=1e-5):\n",
    "        super().__init__()\n",
    "        \n",
    "    def forward(self,x):\n",
    "        return x\n",
    "        \n",
    "\n",
    "class DummyGPT(nn.Module):\n",
    "    def __init__(self,cfg):\n",
    "        super().__init__()\n",
    "        self.tok_emb = nn.Embedding(cfg['vocab_size'],cfg['emb_dim'])\n",
    "        self.pos_emb = nn.Embedding(cfg['context_len'],cfg['emb_dim'])\n",
    "        self.drop_emb = nn.Dropout(cfg[\"drop_rate\"])\n",
    "        self.trf_blocks =  nn.Sequential(\n",
    "            *[DummyTransformerBlock(cfg) for _ in range(cfg[\"n_layers\"])]\n",
    "        )\n",
    "        self.final_norm = DummyLayerNorm(cfg[\"emb_dim\"])\n",
    "        self.out_head = nn.Linear(\n",
    "            cfg['emb_dim'],cfg['vocab_size'],bias=False\n",
    "        )\n",
    "       \n",
    "    def forward(self,in_idx):\n",
    "        batch_size, seq_len = in_idx.shape  #in_idx 通常是一个整数张量（Tensor），形状一般为 (batch_size, seq_len)\n",
    "        tok_embeds = self.tok_emb(in_idx) #(batch_size, seq_len, emb_dim)\n",
    "        pos_embeds = self.pos_emb(torch.arange(seq_len,device=in_idx.device))  #生成一个从 0 到 seq_len-1 的整数序列\n",
    "        x = tok_embeds + pos_embeds\n",
    "        x = self.drop_emb(x)\n",
    "        x = self.trf_blocks(x)\n",
    "        x = self.final_norm(x)\n",
    "        logits = self.out_head(x)\n",
    "        return logits\n",
    "        \n",
    "        "
   ]
  },
  {
   "cell_type": "markdown",
   "id": "fbff7872",
   "metadata": {},
   "source": [
    "### view model parameters"
   ]
  },
  {
   "cell_type": "code",
   "execution_count": 36,
   "id": "55445df4",
   "metadata": {},
   "outputs": [
    {
     "name": "stdout",
     "output_type": "stream",
     "text": [
      "函数 test_dummyModel 已跳过执行\n"
     ]
    }
   ],
   "source": [
    "@tool.skip_execution(skip=IS_SKIP_TEST)\n",
    "def test_dummyModel():\n",
    "    model = DummyGPT(GPT_CONFIG)\n",
    "    return model\n",
    "\n",
    "test_dummyModel()"
   ]
  },
  {
   "cell_type": "markdown",
   "id": "f7c7a9ed",
   "metadata": {},
   "source": [
    "## Define layerNorm"
   ]
  },
  {
   "cell_type": "code",
   "execution_count": 37,
   "id": "c0220738",
   "metadata": {},
   "outputs": [],
   "source": [
    "class LayerNorm(nn.Module):\n",
    "    def __init__(self, emb_dim):\n",
    "        super().__init__()\n",
    "        self.eps = 1e-5\n",
    "        self.scale = nn.Parameter(torch.ones(emb_dim))\n",
    "        self.shift = nn.Parameter(torch.zeros(emb_dim))\n",
    "        \n",
    "    def forward(self,x):\n",
    "        mean = x.mean(dim=-1, keepdim=True)\n",
    "        var = x.var(dim =-1 ,keepdim =True, unbiased =False)\n",
    "        norm_x = (x-mean)/torch.sqrt(var+self.eps)\n",
    "        return self.scale*norm_x + self.shift"
   ]
  },
  {
   "cell_type": "markdown",
   "id": "756c41b2",
   "metadata": {},
   "source": [
    "### test layerNorm"
   ]
  },
  {
   "cell_type": "code",
   "execution_count": 38,
   "id": "22a357ec",
   "metadata": {},
   "outputs": [
    {
     "name": "stdout",
     "output_type": "stream",
     "text": [
      "函数 test_layer_norm 已跳过执行\n"
     ]
    }
   ],
   "source": [
    "@tool.skip_execution(skip=IS_SKIP_TEST)\n",
    "def test_layer_norm():\n",
    "    batch_size = 2\n",
    "    seq_len = 5\n",
    "    emb_dim = 3  \n",
    "    x = torch.randn(batch_size, seq_len, emb_dim)  # 随机生成输入张量\n",
    "    \n",
    "    custom_ln = LayerNorm(emb_dim)\n",
    "    official_ln = nn.LayerNorm(emb_dim, eps=1e-5, elementwise_affine=True)\n",
    "    \n",
    "\n",
    "    official_ln.weight.data.copy_(custom_ln.scale.data)\n",
    "    official_ln.bias.data.copy_(custom_ln.shift.data)\n",
    " \n",
    "    custom_out = custom_ln(x)\n",
    "    official_out = official_ln(x)\n",
    "    print(custom_out)\n",
    "    print(official_out)\n",
    "\n",
    "    assert_close(\n",
    "        custom_out, \n",
    "        official_out, \n",
    "        rtol=1e-5,  # 相对误差容忍度\n",
    "        atol=1e-5   # 绝对误差容忍度\n",
    "    )\n",
    "    print(\"测试通过：自定义LayerNorm与官方实现输出一致\")\n",
    "\n",
    "test_layer_norm()"
   ]
  },
  {
   "cell_type": "markdown",
   "id": "396726f8",
   "metadata": {},
   "source": [
    "## Define activate function\n",
    "\n",
    "Φ(x) ≈ 0.5 * (1 + tanh(√(2/π) * (x + 0.044715 * x³)))"
   ]
  },
  {
   "cell_type": "code",
   "execution_count": 39,
   "id": "8633271f",
   "metadata": {},
   "outputs": [],
   "source": [
    "class GELU(nn.Module):\n",
    "    def __init__(self, *args, **kwargs):\n",
    "        super().__init__(*args, **kwargs)\n",
    "        \n",
    "    def forward(self,x):\n",
    "        return 0.5*x*(1+ \n",
    "                      torch.tanh(torch.sqrt(torch.tensor(2/torch.pi))\n",
    "                                 *(x+0.044715*torch.pow(x,3))\n",
    "                                )\n",
    "                      )\n",
    "        \n"
   ]
  },
  {
   "cell_type": "markdown",
   "id": "0adf57d8",
   "metadata": {},
   "source": [
    "### test gelu"
   ]
  },
  {
   "cell_type": "code",
   "execution_count": 40,
   "id": "d9027426",
   "metadata": {},
   "outputs": [
    {
     "name": "stdout",
     "output_type": "stream",
     "text": [
      "函数 test_gelu 已跳过执行\n"
     ]
    }
   ],
   "source": [
    "@tool.skip_execution(skip=IS_SKIP_TEST)\n",
    "def test_gelu():\n",
    "    x = torch.tensor([-3.0, -1.0, 0.0, 0.5, 1.0, 2.0, 5.0])\n",
    "    \n",
    "    custom_gelu = GELU()\n",
    "    official_gelu = nn.GELU()\n",
    "\n",
    "    custom_out = custom_gelu(x)\n",
    "    official_out = official_gelu(x)\n",
    "    \n",
    "    # 打印结果进行直观对比\n",
    "    print(\"输入值:\", x)\n",
    "    print(\"自定义GELU输出:\", custom_out)\n",
    "    print(\"官方GELU输出:\", official_out)\n",
    " \n",
    "    assert_close(\n",
    "        custom_out,\n",
    "        official_out,\n",
    "        rtol=1e-3,  # 相对误差容忍度\n",
    "        atol=1e-3   # 绝对误差容忍度\n",
    "    )\n",
    "    print(\"\\n测试通过：自定义GELU与官方实现近似一致\")\n",
    "    \n",
    "test_gelu()"
   ]
  },
  {
   "cell_type": "markdown",
   "id": "29b26a66",
   "metadata": {},
   "source": [
    "## Define FFN\n",
    "通过两层线性变换和激活函数，对注意力机制输出的特征进行非线性加工，增强模型表达能力。"
   ]
  },
  {
   "cell_type": "code",
   "execution_count": 41,
   "id": "63108816",
   "metadata": {},
   "outputs": [],
   "source": [
    "class FeedForward(nn.Module):\n",
    "    def __init__(self, cfg):\n",
    "        super().__init__()\n",
    "        self.layers = nn.Sequential(\n",
    "            #中间层hidden_dim通常设为4*emb_dim（如原始 Transformer 中为 512→2048→512），通过扩展维度捕捉更丰富的特征\n",
    "            nn.Linear(cfg['emb_dim'],4*cfg['emb_dim']),  \n",
    "            GELU(),\n",
    "            nn.Dropout(cfg['drop_rate']),\n",
    "            nn.Linear(4*cfg['emb_dim'],cfg['emb_dim'])\n",
    "        )\n",
    "        \n",
    "    def forward(self,x):\n",
    "        return self.layers(x)"
   ]
  },
  {
   "cell_type": "markdown",
   "id": "e6628b29",
   "metadata": {},
   "source": [
    "## Define MultiAttention"
   ]
  },
  {
   "cell_type": "code",
   "execution_count": 42,
   "id": "1d5d1868",
   "metadata": {},
   "outputs": [],
   "source": [
    "class CausalAttention(nn.Module):\n",
    "    def __init__(self, d_in, d_out,context_len,dropout,qkv_bias=False):\n",
    "        super().__init__()\n",
    "        self.d_out =d_out\n",
    "        self.W_q = nn.Linear(d_in,d_out,bias= qkv_bias)\n",
    "        self.W_k = nn.Linear(d_in,d_out,bias= qkv_bias)\n",
    "        self.W_v = nn.Linear(d_in,d_out,bias= qkv_bias)\n",
    "        self.dropout = nn.Dropout(dropout)\n",
    "        #缓冲区（buffer）是模型中不需要被训练的参数（与 nn.Parameter 不同，后者是可学习参数），但会随模型一起保存（state_dict 中包含）\n",
    "        self.register_buffer(\n",
    "            'mask', \n",
    "            torch.triu(torch.ones(context_len,context_len),diagonal=1)\n",
    "        )\n",
    "    \n",
    "    def forward(self,x):\n",
    "        b,num_tokens,d_in = x.shape\n",
    "        keys = self.W_k(x)\n",
    "        queries = self.W_q(x)\n",
    "        values = self.W_v(x)\n",
    "        \n",
    "        att_score = queries @ keys.transpose(1,2)\n",
    "        att_score.masked_fill_(self.mask.bool()[:num_tokens,:num_tokens],-torch.inf) # 上面的register_buffer  形状为 (num_tokens, num_tokens) 的子矩阵\n",
    "        att_weight = torch.softmax(att_score/keys.shape[-1]**0.5, dim=-1)\n",
    "        att_weight = self.dropout(att_weight)\n",
    "        context_vec = att_weight @ values\n",
    "        return context_vec\n",
    "        \n",
    "class MultiHeadAttendtion(nn.Module):\n",
    "    def __init__(self, d_in, d_out,context_len,dropout,num_heads,qkv_bias=False):\n",
    "        super().__init__()\n",
    "        # ModuleList与nn.Sequential不同，它不自动执行前向传播，而是需要手动遍历调用，适合需要单独处理每个子模块的场景\n",
    "        self.heads = nn.ModuleList(\n",
    "            [CausalAttention(d_in,d_out,context_len,dropout,qkv_bias) for _ in range(num_heads)]\n",
    "        )\n",
    "        \n",
    "    def forward(self,x):\n",
    "        return torch.cat([head(x) for head in self.heads],dim=-1)"
   ]
  },
  {
   "cell_type": "code",
   "execution_count": 43,
   "id": "c7472d49",
   "metadata": {},
   "outputs": [],
   "source": [
    "# TODO 更高效的MutiAttention 减少计算量\n",
    "#参数规模更小（d_model×d_model 对比 num_heads×d_model×head_dim\n",
    "class MultiHeadAttendtion_new(nn.Module):\n",
    "    def __init__(self, d_in, d_out,context_len,dropout,num_heads,qkv_bias=False):\n",
    "        super().__init__()\n",
    "        self.d_out =d_out\n",
    "        self.num_heads = num_heads\n",
    "        self.head_dim = d_out // num_heads\n",
    "        self.W_q = nn.Linear(d_in,d_out,bias= qkv_bias)\n",
    "        self.W_k = nn.Linear(d_in,d_out,bias= qkv_bias)\n",
    "        self.W_v = nn.Linear(d_in,d_out,bias= qkv_bias)\n",
    "        self.out_proj =nn.Linear(d_out,d_out) # out_proj 可以学习如何 “融合” 这些头的信息（例如对不同头的特征赋予不同权重），而不是简单保留原始拼接结果\n",
    "        self.dropout = nn.Dropout(dropout)\n",
    "        self.register_buffer(\n",
    "            'mask', \n",
    "            torch.triu(torch.ones(context_len,context_len),diagonal=1)\n",
    "        )\n",
    "    \n",
    "    def forward(self,x):\n",
    "        b,num_tokens,d_in = x.shape\n",
    "        keys = self.W_k(x)\n",
    "        queries = self.W_q(x)\n",
    "        values = self.W_v(x)\n",
    "        \n",
    "        keys = keys.view(b,num_tokens,self.num_heads,self.head_dim)\n",
    "        queries = queries.view(b,num_tokens,self.num_heads,self.head_dim)\n",
    "        values = values.view(b,num_tokens,self.num_heads,self.head_dim)\n",
    "         \n",
    "        #(b,num_tokens,num_heads,head_dim) --> (b,num_heads,num_tokens,head_dim)         \n",
    "        keys = keys.transpose(1,2)\n",
    "        queries = queries .transpose(1,2)\n",
    "        values = values.transpose(1,2)\n",
    "        \n",
    "        \n",
    "        att_score = queries @ keys.transpose(2,3)\n",
    "        att_score.masked_fill_(self.mask.bool()[:num_tokens,:num_tokens],-torch.inf)\n",
    "        att_weight = torch.softmax(att_score/keys.shape[-1]**0.5, dim=-1)\n",
    "        att_weight = self.dropout(att_weight)\n",
    "        context_vec = (att_weight @ values).transpose(1,2)\n",
    "        context_vec = context_vec.contiguous().view(b,num_tokens,self.d_out)\n",
    "        context_vec = self.out_proj(context_vec)\n",
    "        return context_vec"
   ]
  },
  {
   "cell_type": "markdown",
   "id": "869e45fe",
   "metadata": {},
   "source": [
    "## Define Transformer block"
   ]
  },
  {
   "cell_type": "code",
   "execution_count": 44,
   "id": "98bfbbc3",
   "metadata": {},
   "outputs": [],
   "source": [
    "class TransformerBlock(nn.Module):\n",
    "    def __init__(self, cfg):\n",
    "        super().__init__()\n",
    "        self.att = MultiHeadAttendtion_new(\n",
    "            d_in= cfg[\"emb_dim\"],\n",
    "            d_out= cfg['emb_dim'],\n",
    "            context_len=  cfg['context_len'],\n",
    "            num_heads= cfg[\"n_heads\"],\n",
    "            dropout= cfg[\"drop_rate\"],\n",
    "            qkv_bias=cfg[\"qkv_bias\"]\n",
    "        )\n",
    "        self.ff =FeedForward(cfg)\n",
    "        self.norm1 = LayerNorm(cfg['emb_dim']) #norm1：用于注意力模块（self.att）的输入归一化\n",
    "        self.norm2 = LayerNorm(cfg['emb_dim']) #norm2：用于前馈网络（self.ff）的输入归一化\n",
    "        self.dropout = nn.Dropout(cfg['drop_rate'])\n",
    "        \n",
    "    \n",
    "    def forward(self,x):\n",
    "       # 注意力分支：LayerNorm -> 注意力 -> Dropout -> 残差连接\n",
    "        x = x + self.dropout(self.att(self.norm1(x))) \n",
    "        # FFN分支：LayerNorm -> FFN -> Dropout -> 残差连接\n",
    "        x = x + self.dropout(self.ff(self.norm2(x)))  \n",
    "        return x\n",
    "        \n",
    "         "
   ]
  },
  {
   "cell_type": "markdown",
   "id": "f9e411c4",
   "metadata": {},
   "source": [
    "## Define GPT Model"
   ]
  },
  {
   "cell_type": "code",
   "execution_count": 45,
   "id": "8f689863",
   "metadata": {},
   "outputs": [],
   "source": [
    "class GPTModel(nn.Module):\n",
    "    def __init__(self,cfg):\n",
    "        super().__init__()\n",
    "        self.tok_emb = nn.Embedding(cfg['vocab_size'],cfg['emb_dim'])\n",
    "        self.pos_emb = nn.Embedding(cfg['context_len'],cfg['emb_dim'])\n",
    "        self.drop_emb = nn.Dropout(cfg[\"drop_rate\"])\n",
    "        self.trf_blocks =  nn.Sequential(\n",
    "            *[TransformerBlock(cfg) for _ in range(cfg[\"n_layers\"])]\n",
    "        )\n",
    "        self.final_norm = DummyLayerNorm(cfg[\"emb_dim\"])\n",
    "        self.out_head = nn.Linear(\n",
    "            cfg['emb_dim'],cfg['vocab_size'],bias=False\n",
    "        )\n",
    "       \n",
    "    def forward(self,in_idx):\n",
    "        batch_size, seq_len = in_idx.shape  #in_idx 通常是一个整数张量（Tensor），形状一般为 (batch_size, seq_len)\n",
    "        tok_embeds = self.tok_emb(in_idx) #(batch_size, seq_len, emb_dim)\n",
    "        pos_embeds = self.pos_emb(torch.arange(seq_len,device=in_idx.device))  #生成一个从 0 到 seq_len-1 的整数序列\n",
    "        x = tok_embeds + pos_embeds\n",
    "        x = self.drop_emb(x)\n",
    "        x = self.trf_blocks(x)\n",
    "        x = self.final_norm(x)\n",
    "        logits = self.out_head(x)\n",
    "        return logits\n",
    "        "
   ]
  },
  {
   "cell_type": "markdown",
   "id": "2f268a8f",
   "metadata": {},
   "source": [
    "### View structure of model "
   ]
  },
  {
   "cell_type": "code",
   "execution_count": 46,
   "id": "f3934cac",
   "metadata": {},
   "outputs": [
    {
     "name": "stdout",
     "output_type": "stream",
     "text": [
      "函数 test_GPT2_model 已跳过执行\n"
     ]
    }
   ],
   "source": [
    "#GPT2 小型（Small）：12 层 Transformer 解码器，隐藏层维度 768，注意力头数 12，总参数约 1.2 亿\n",
    "@tool.skip_execution(skip=IS_SKIP_TEST)\n",
    "def test_GPT2_model():\n",
    "    CONFIG = {\n",
    "    \"num_epochs\":10,\n",
    "    \"batch_size\":2,\n",
    "    \"vocab_size\": 50257,     \n",
    "    \"context_len\": 512,  \n",
    "    \"emb_dim\": 768,          \n",
    "    \"n_heads\": 8,          \n",
    "    \"n_layers\": 12,          \n",
    "    \"drop_rate\": 0.1,       \n",
    "    \"qkv_bias\": False ,      \n",
    "    }   \n",
    "    model = GPTModel(CONFIG)\n",
    "    model.to(device)\n",
    "\n",
    "    # attention_new 参数减少量 = (304,556,544 - 163,008,000)\n",
    "    total_params =sum(p.numel() for p in model.parameters())\n",
    "\n",
    "    print(f\"Total number of parameters: {total_params:,}\") #163,008,000\n",
    "\n",
    "    #权重共享， W_emb和W_out指向同一块内存，模型训练时只会更新这一个矩阵，避免了维护两个独立矩阵的开销\n",
    "    total_params_gpt2 = total_params - sum(p.numel()for p in model.out_head.parameters())\n",
    "   \n",
    "    print(f\"Number of trainable parameters \"\n",
    "        f\"considering weight tying: {total_params_gpt2:,}\") #124,017,408\n",
    "    return model\n",
    "    \n",
    "test_GPT2_model()"
   ]
  },
  {
   "cell_type": "markdown",
   "id": "16d5c506",
   "metadata": {},
   "source": [
    "# Training model\n",
    "## tokenizer"
   ]
  },
  {
   "cell_type": "code",
   "execution_count": 47,
   "id": "f2d5e25d",
   "metadata": {},
   "outputs": [],
   "source": [
    "# ! pip install tiktoken"
   ]
  },
  {
   "cell_type": "markdown",
   "id": "15f52a03",
   "metadata": {},
   "source": [
    "<|endoftext|>\n",
    "\n",
    "<|fim_prefix|>\n",
    "\n",
    "<|fim_middle|>\n",
    "\n",
    "<|fim_suffix|>\n",
    "\n",
    "<|endofprompt|>"
   ]
  },
  {
   "cell_type": "code",
   "execution_count": 48,
   "id": "17b49d68",
   "metadata": {},
   "outputs": [],
   "source": [
    "import tiktoken\n",
    "\n",
    "\n",
    "def text_to_tokenIds(text,tokenizer):\n",
    "    encoded = tokenizer.encode(text,allowed_special={'<|endoftext|>'})\n",
    "    encoded_tensor =torch.tensor(encoded).unsqueeze(0)\n",
    "    return encoded_tensor\n",
    "\n",
    "def tokenIds_to_text(token_ids,tokenizer):\n",
    "    flat =token_ids.squeeze(0)\n",
    "    return tokenizer.decode(flat.tolist())\n",
    "\n",
    "\n",
    "\n",
    "def  generate_text_greedy(model,idxs,max_new_tokens,context_size): # max_new_tokens 生成往后n个token\n",
    "    model.eval()\n",
    "    for _ in range(max_new_tokens):\n",
    "        idx_condition = idxs[:,-context_size:]\n",
    "        # print(idx_condition)\n",
    "        with torch.no_grad():\n",
    "            logits = model(idx_condition)\n",
    "            # print(logits)\n",
    "            \n",
    "        #生成时：只需要最后一个位置的 logits\n",
    "        logits = logits[:,-1,:]\n",
    "        probas =torch.softmax(logits,dim=-1)\n",
    "        idx_next = torch.argmax(probas,dim=-1,keepdim=True)\n",
    "        idxs = torch.cat((idxs,idx_next),dim=1)\n",
    "    return idxs\n"
   ]
  },
  {
   "cell_type": "markdown",
   "id": "e858f138",
   "metadata": {},
   "source": [
    "### test tokenizer"
   ]
  },
  {
   "cell_type": "code",
   "execution_count": 49,
   "id": "e28ba7f9",
   "metadata": {},
   "outputs": [
    {
     "name": "stdout",
     "output_type": "stream",
     "text": [
      "函数 test_tokenizer 已跳过执行\n"
     ]
    }
   ],
   "source": [
    "@tool.skip_execution(skip=IS_SKIP_TEST)\n",
    "def test_tokenizer():\n",
    "    model =GPTModel(GPT_CONFIG)\n",
    "    test_context =\"今天的天气是晴天，适合出去走走\"\n",
    "    #test_context = \"I like the weather\"\n",
    "    print(f'{test_context}--ori')\n",
    "    tokenizer =tiktoken.get_encoding(TOKEN_TYPE)\n",
    "    tokenids =text_to_tokenIds(test_context,tokenizer)\n",
    "    print(f'{tokenIds_to_text(tokenids,tokenizer)}--recover') \n",
    "\n",
    "\n",
    "    tokenids = generate_text_greedy(model,tokenids,max_new_tokens=3,context_size=GPT_CONFIG['context_len'])\n",
    "\n",
    "    print(f'{tokenIds_to_text(tokenids,tokenizer)}--new') \n",
    "\n",
    "test_tokenizer()\n"
   ]
  },
  {
   "cell_type": "markdown",
   "id": "1cf36f81",
   "metadata": {},
   "source": [
    "Epoch 过程中查看生成的文本\n",
    "\n",
    "查看模型生成的新 token 数量（max_new_tokens）:\n",
    "* 训练监控（最常用）：20-50 个 token\n",
    "* 轻量化验证（追求效率）：10-20 个 token\n",
    "* 深度观察（关键节点）：50-100 个 token"
   ]
  },
  {
   "cell_type": "code",
   "execution_count": 50,
   "id": "508d2749",
   "metadata": {},
   "outputs": [],
   "source": [
    "\n",
    "def generate_and_print(model,tokenizer,device,start_context,max_new_tokens):\n",
    "    model.eval()\n",
    "    context_size = model.pos_emb.weight.shape[0]\n",
    "    encoded = text_to_tokenIds(start_context,tokenizer).to(device)\n",
    "    with torch.no_grad():\n",
    "        token_ids = generate_text_greedy(model,idxs=encoded,max_new_tokens=max_new_tokens,context_size=context_size)\n",
    "        decoded_text = tokenIds_to_text(token_ids,tokenizer)\n",
    "    print(decoded_text.replace(\"\\n\",\" \"))\n",
    "    model.train()\n",
    "        "
   ]
  },
  {
   "cell_type": "markdown",
   "id": "0978e686",
   "metadata": {},
   "source": [
    "## Load Data"
   ]
  },
  {
   "cell_type": "code",
   "execution_count": 51,
   "id": "67af3453",
   "metadata": {},
   "outputs": [],
   "source": [
    "\n",
    "\n",
    "\n",
    "# class GPTDataset(Dataset):\n",
    "#     def __init__(self,txt, tokenizer,max_len,stride):\n",
    "#         super().__init__()\n",
    "#         self.input_ids = []\n",
    "#         self.target_ids =[]\n",
    "#         self.max_len =max_len\n",
    "#         tokenids = tokenizer.encode(txt)\n",
    "#         print(f'tokens: {len(tokenids)}')\n",
    "#         print(f'samples: {(len(tokenids) - max_len) // stride + 1}')\n",
    "#         for i in range(0,len(tokenids)- max_len,stride):\n",
    "#             input_chunk = tokenids[i:i+max_len]\n",
    "#             target_chunk = tokenids[i+1:i+max_len+1]\n",
    "#             self.input_ids.append(torch.tensor(input_chunk))\n",
    "#             self.target_ids.append(torch.tensor(target_chunk))\n",
    "            \n",
    "#         print(f\"total number of samples: {len(self.input_ids)}\")\n",
    "    \n",
    "#     def __len__(self):\n",
    "#         return len(self.input_ids)\n",
    "    \n",
    "#     def __getitem__(self,idx):\n",
    "#         return self.input_ids[idx],self.target_ids[idx]\n",
    "\n",
    "class GPTDataset(Dataset):\n",
    "    def __init__(self, texts, tokenizer, max_len, stride):\n",
    "        super().__init__()\n",
    "        self.input_ids = []\n",
    "        self.target_ids = []\n",
    "        self.max_len = max_len\n",
    "        self.stride = stride\n",
    "        \n",
    "        # 遍历文本数组中的每篇文本\n",
    "        for idx, text in enumerate(tqdm(texts, desc=\"Process text\")):\n",
    "            # 跳过空文本\n",
    "            if not text.strip():\n",
    "                continue\n",
    "                \n",
    "            # 编码单篇文本\n",
    "            tokenids = tokenizer.encode(text)\n",
    "            # 计算该文本可生成的样本数\n",
    "            num_samples = (len(tokenids) - max_len) // stride + 1 if len(tokenids) >= max_len else 0\n",
    "            \n",
    "            if num_samples > 0:\n",
    "                # 滑动窗口生成样本\n",
    "                for i in range(0, len(tokenids) - max_len, stride):\n",
    "                    input_chunk = tokenids[i:i+max_len]\n",
    "                    target_chunk = tokenids[i+1:i+max_len+1]  # 目标是输入的下一个token\n",
    "                    self.input_ids.append(torch.tensor(input_chunk))\n",
    "                    self.target_ids.append(torch.tensor(target_chunk))\n",
    "        \n",
    "        print(f\"总样本数: {len(self.input_ids)}\")\n",
    "    \n",
    "    def __len__(self):\n",
    "        return len(self.input_ids)\n",
    "    \n",
    "    def __getitem__(self, idx):\n",
    "        return self.input_ids[idx], self.target_ids[idx]\n",
    "    \n",
    "\n",
    "'''\n",
    "DataLoader 本质是一个批次生成器迭代索引：\n",
    "自动生成从 0 到 len(dataset)-1 的索引，通过 dataset.__getitem__(idx) 逐个获取样本\n",
    "'''\n",
    "def GPTDataloader(txt,token_type,batch_size=4,max_len=246,stride=128,shuffle=True,drop_last=True,num_works=0):\n",
    "    tokenizer =tiktoken.get_encoding(token_type)\n",
    "    ds = GPTDataset(txt,tokenizer,max_len,stride)\n",
    "    dl = DataLoader(\n",
    "        ds,\n",
    "        batch_size =batch_size,\n",
    "        shuffle=shuffle,\n",
    "        drop_last=drop_last,\n",
    "        num_workers=num_works\n",
    "    )\n",
    "    return dl"
   ]
  },
  {
   "cell_type": "code",
   "execution_count": 52,
   "id": "714d3269",
   "metadata": {},
   "outputs": [
    {
     "data": {
      "text/plain": [
       "'\\ndef Load_data_en(file_path,train_ratio=0.8):\\n    with open (file_path,\"r\",encoding=\"utf-8\") as file:\\n        text_data =file.read()\\n        \\n    print(f\\'total char: {len(text_data)}\\') #character count\\n    \\n    split_idx = int(train_ratio*len(text_data))\\n    train_data = text_data[:split_idx]\\n    valid_data = text_data[split_idx:]\\n    print(f\\'train char: {len(train_data)}\\nvalid char: {len(valid_data)} \\n\\')\\n    return [train_data], [valid_data]\\n\\nfile_path =\"../datasets/the-verdict.txt\"\\ntrain_data, valid_data =Load_data_en(file_path)\\n'"
      ]
     },
     "execution_count": 52,
     "metadata": {},
     "output_type": "execute_result"
    }
   ],
   "source": [
    "# load en txt for debug\n",
    "'''\n",
    "def Load_data_en(file_path,train_ratio=0.8):\n",
    "    with open (file_path,\"r\",encoding=\"utf-8\") as file:\n",
    "        text_data =file.read()\n",
    "        \n",
    "    print(f'total char: {len(text_data)}') #character count\n",
    "    \n",
    "    split_idx = int(train_ratio*len(text_data))\n",
    "    train_data = text_data[:split_idx]\n",
    "    valid_data = text_data[split_idx:]\n",
    "    print(f'train char: {len(train_data)}\\nvalid char: {len(valid_data)} \\n')\n",
    "    return [train_data], [valid_data]\n",
    "\n",
    "file_path =\"../datasets/the-verdict.txt\"\n",
    "train_data, valid_data =Load_data_en(file_path)\n",
    "'''"
   ]
  },
  {
   "cell_type": "code",
   "execution_count": 53,
   "id": "478c45a3",
   "metadata": {},
   "outputs": [
    {
     "name": "stdout",
     "output_type": "stream",
     "text": [
      "dict_keys(['train'])\n",
      "train sentence: 8000\n",
      "valid sentence: 2000 \n",
      "\n"
     ]
    }
   ],
   "source": [
    "def Load_data_cn(part=False,train_ratio=0.8):\n",
    "    txts = loaddata.load_local_data()\n",
    "    if part:\n",
    "        txts =txts[:10000]\n",
    "    len(txts)\n",
    "    split_idx = int(train_ratio*len(txts))\n",
    "    train_data = txts[:split_idx]\n",
    "    valid_data = txts[split_idx:]\n",
    "    print(f'train sentence: {len(train_data)}\\nvalid sentence: {len(valid_data)} \\n')\n",
    "    return train_data,valid_data\n",
    "\n",
    "train_data,valid_data = Load_data_cn(True,0.8)"
   ]
  },
  {
   "cell_type": "code",
   "execution_count": 54,
   "id": "b4745946",
   "metadata": {},
   "outputs": [
    {
     "name": "stderr",
     "output_type": "stream",
     "text": [
      "Process text: 100%|██████████| 8000/8000 [00:03<00:00, 2081.51it/s]\n"
     ]
    },
    {
     "name": "stdout",
     "output_type": "stream",
     "text": [
      "总样本数: 43209\n",
      "共5401个批次，每批8个样本，每个样本是长度为 256 的 token 序列\n"
     ]
    },
    {
     "name": "stderr",
     "output_type": "stream",
     "text": [
      "Process text: 100%|██████████| 2000/2000 [00:00<00:00, 3135.70it/s]"
     ]
    },
    {
     "name": "stdout",
     "output_type": "stream",
     "text": [
      "总样本数: 5608\n"
     ]
    },
    {
     "name": "stderr",
     "output_type": "stream",
     "text": [
      "\n"
     ]
    }
   ],
   "source": [
    "\n",
    "\n",
    "train_loader = GPTDataloader(\n",
    "    train_data,\n",
    "    TOKEN_TYPE,\n",
    "    batch_size = GPT_CONFIG['batch_size'],\n",
    "    max_len = GPT_CONFIG[\"context_len\"],\n",
    "    stride = GPT_CONFIG[\"context_len\"] // 2,# 适度重叠（stride = max_len // 2）\n",
    "    drop_last=True,\n",
    "    shuffle= True, #训练时打乱，验证 / 测试时不打乱：训练时打乱是为了提升泛化能力\n",
    "    num_works=4    \n",
    "    )\n",
    "\n",
    "# print(\"Train loader:\")\n",
    "# x, y =next(iter(train_loader))\n",
    "# print(x.shape, y.shape)\n",
    "\n",
    "\n",
    "\n",
    "print(F'共{len(train_loader)}个批次，'\n",
    "      f'每批{train_loader.batch_size}个样本，'\n",
    "      f'每个样本是长度为 {train_loader.dataset.max_len} 的 token 序列')\n",
    "\n",
    "valid_loader = GPTDataloader(\n",
    "    valid_data,\n",
    "    TOKEN_TYPE,\n",
    "    batch_size = GPT_CONFIG['batch_size'],\n",
    "    max_len = GPT_CONFIG[\"context_len\"],\n",
    "    stride = GPT_CONFIG[\"context_len\"] ,\n",
    "    drop_last=False, # 验证 / 测试阶段：需要完整评估所有样本的性能，不能遗漏任何数据点\n",
    "    shuffle= False, #验证 / 测试时不打乱是为了结果可复现，方便对比不同模型的性能\n",
    "    num_works=4    \n",
    "    )\n",
    "\n",
    "# print(\"Validation loader:\")\n",
    "# x, y =next(iter(valid_loader))\n",
    "# print(x.shape, y.shape)\n"
   ]
  },
  {
   "cell_type": "markdown",
   "id": "1fbbe70e",
   "metadata": {},
   "source": [
    "### Loss funcion"
   ]
  },
  {
   "cell_type": "code",
   "execution_count": 55,
   "id": "c74f53e1",
   "metadata": {},
   "outputs": [],
   "source": [
    "def calc_loss_batch(input_batch,target_batch,model,device):\n",
    "    input_batch = input_batch.to(device)\n",
    "    target_batch = target_batch.to(device)\n",
    "    logits = model(input_batch)\n",
    "    loss =torch.nn.functional.cross_entropy(logits.flatten(0,1),target_batch.flatten())\n",
    "    return loss\n",
    "\n",
    "#快速验证：指定 num_batchs=n，只跑前n个批次，节省时间。\n",
    "def calc_loss_loader(data_loader,model,device,num_batchs=None):\n",
    "    total_loss = 0\n",
    "    total_batchs =len(data_loader)\n",
    "    # print('total batch count:' ,total_batchs)\n",
    "    if  total_batchs == 0:\n",
    "        return float('nan')\n",
    "    elif num_batchs is None:\n",
    "        num_batchs = total_batchs \n",
    "    else:\n",
    "        num_batchs = min(num_batchs,total_batchs)\n",
    "    \n",
    "    for i ,(input_batch,target_batch) in enumerate(data_loader):# dataset.__getitem__(idx)\n",
    "        if i < num_batchs:\n",
    "            loss = calc_loss_batch(input_batch,target_batch,model,device)\n",
    "            total_loss += loss.item()\n",
    "        else:\n",
    "            break\n",
    "    return total_loss / num_batchs\n",
    "\n",
    "def evaluate_model(model,train_loader,valid_loader,device,eval_iter):\n",
    "    model.eval()\n",
    "    with torch.no_grad():\n",
    "        train_loss = calc_loss_loader(train_loader,model,device,num_batchs=eval_iter)\n",
    "        valid_loss = calc_loss_loader(valid_loader,model,device,num_batchs=eval_iter)\n",
    "    model.train()\n",
    "    return train_loss,valid_loss"
   ]
  },
  {
   "cell_type": "markdown",
   "id": "9f198ff6",
   "metadata": {},
   "source": [
    "### test loss function"
   ]
  },
  {
   "cell_type": "code",
   "execution_count": 56,
   "id": "44f82974",
   "metadata": {},
   "outputs": [
    {
     "name": "stdout",
     "output_type": "stream",
     "text": [
      "函数 test_loss 已跳过执行\n"
     ]
    }
   ],
   "source": [
    "@tool.skip_execution(skip=IS_SKIP_TEST)\n",
    "def test_loss():\n",
    "    model = GPTModel(GPT_CONFIG)\n",
    "    calc_loss_loader(train_loader,model,device='cpu')\n",
    "\n",
    "test_loss()"
   ]
  },
  {
   "cell_type": "markdown",
   "id": "a7e8ead4",
   "metadata": {},
   "source": [
    "## Train model"
   ]
  },
  {
   "cell_type": "code",
   "execution_count": 57,
   "id": "c831d6cc",
   "metadata": {},
   "outputs": [],
   "source": [
    "def train_model_process(model,train_loader,valid_loader,\n",
    "                        optimizer,device,num_epochs,\n",
    "                        eval_freq,eval_iter,\n",
    "                        start_context,tokenizer):\n",
    "    train_losses,val_losses= [],[]\n",
    "    track_tokens_seen =[]\n",
    "    tokens_seen,global_step = 0, -1\n",
    "    for epoch in  tqdm(range(num_epochs), desc=\"training\"):\n",
    "        model.train()\n",
    "        for input_batch,target_batch in tqdm(train_loader, desc=f\"Epoch {epoch+1}\", leave=False):\n",
    "            input_batch, target_batch = input_batch.to(device), target_batch.to(device)  # 数据移到GPU\n",
    "            optimizer.zero_grad()\n",
    "            loss = calc_loss_batch(input_batch,target_batch,model,device)\n",
    "            loss.backward()\n",
    "            optimizer.step()\n",
    "            tokens_seen += input_batch.numel()\n",
    "            global_step +=1\n",
    "            \n",
    "            if global_step % eval_freq == 0:\n",
    "                train_loss, val_loss = evaluate_model(model,train_loader,valid_loader,device,eval_iter)\n",
    "                train_losses.append(train_loss)\n",
    "                val_losses.append(val_loss)\n",
    "                track_tokens_seen.append(track_tokens_seen)\n",
    "                print(f'EP: {epoch+1} STEP: {global_step} '\n",
    "                    f'{f\"T_LOSS: {train_loss:.3f}\" if train_loss is not None else \"T_LOSS: None \"} '\n",
    "                    f'{f\"V_LOSS: {val_loss:.3f}\" if val_loss is not None else \"V_LOSS: None\"}'\n",
    "                    )\n",
    "                generate_and_print(model,tokenizer,device,start_context,20)\n",
    "    return train_losses,val_losses,track_tokens_seen"
   ]
  },
  {
   "cell_type": "code",
   "execution_count": 58,
   "id": "755ce8f5",
   "metadata": {},
   "outputs": [
    {
     "name": "stderr",
     "output_type": "stream",
     "text": [
      "training:   0%|          | 0/10 [00:00<?, ?it/s]"
     ]
    },
    {
     "name": "stdout",
     "output_type": "stream",
     "text": [
      "EP: 1 STEP: 0 T_LOSS: 24.345 V_LOSS: 24.406\n",
      "今天的天气，，，，，，，，，，，，，，，，，，，，\n"
     ]
    },
    {
     "name": "stderr",
     "output_type": "stream",
     "text": []
    },
    {
     "name": "stdout",
     "output_type": "stream",
     "text": [
      "EP: 1 STEP: 50 T_LOSS: 22.002 V_LOSS: 22.320\n",
      "今天的天气，并行行，并行，并�语语在行语与行，，，行�行\n"
     ]
    },
    {
     "name": "stderr",
     "output_type": "stream",
     "text": []
    },
    {
     "name": "stdout",
     "output_type": "stream",
     "text": [
      "EP: 1 STEP: 100 T_LOSS: 6.976 V_LOSS: 7.005\n",
      "今天的天气��FI， -�，的的，的的 - -车，�， -�\n"
     ]
    },
    {
     "name": "stderr",
     "output_type": "stream",
     "text": []
    },
    {
     "name": "stdout",
     "output_type": "stream",
     "text": [
      "EP: 1 STEP: 150 T_LOSS: 6.234 V_LOSS: 6.329\n",
      "今天的天气员�书，但古岛和、的地，为 \"的法的，\n"
     ]
    },
    {
     "name": "stderr",
     "output_type": "stream",
     "text": []
    },
    {
     "name": "stdout",
     "output_type": "stream",
     "text": [
      "EP: 1 STEP: 200 T_LOSS: 5.977 V_LOSS: 6.056\n",
      "今天的天气穗、，他们�，他们、黄近，但，古，\n"
     ]
    },
    {
     "name": "stderr",
     "output_type": "stream",
     "text": []
    },
    {
     "name": "stdout",
     "output_type": "stream",
     "text": [
      "EP: 1 STEP: 250 T_LOSS: 5.923 V_LOSS: 6.028\n",
      "今天的天气，但，但，但，但，但，但，但，但，但，但\n"
     ]
    },
    {
     "name": "stderr",
     "output_type": "stream",
     "text": []
    },
    {
     "name": "stdout",
     "output_type": "stream",
     "text": [
      "EP: 1 STEP: 300 T_LOSS: 5.641 V_LOSS: 5.745\n",
      "今天的天气员��ng，他们�的研员 * ablo��，\n"
     ]
    },
    {
     "name": "stderr",
     "output_type": "stream",
     "text": []
    },
    {
     "name": "stdout",
     "output_type": "stream",
     "text": [
      "EP: 1 STEP: 350 T_LOSS: 5.461 V_LOSS: 5.566\n",
      "今天的天气员会的222，但，但),。  �，但，但，但，但\n"
     ]
    },
    {
     "name": "stderr",
     "output_type": "stream",
     "text": []
    },
    {
     "name": "stdout",
     "output_type": "stream",
     "text": [
      "EP: 1 STEP: 400 T_LOSS: 5.338 V_LOSS: 5.441\n",
      "今天的天气员会议院363是一种Apom，但是一个 Public Policy Research，但是\n"
     ]
    },
    {
     "name": "stderr",
     "output_type": "stream",
     "text": []
    },
    {
     "name": "stdout",
     "output_type": "stream",
     "text": [
      "EP: 1 STEP: 450 T_LOSS: 5.255 V_LOSS: 5.328\n",
      "今天的天气员，因此，但，但，而，该，他们的，因为“\n"
     ]
    },
    {
     "name": "stderr",
     "output_type": "stream",
     "text": []
    },
    {
     "name": "stdout",
     "output_type": "stream",
     "text": [
      "EP: 1 STEP: 500 T_LOSS: 5.216 V_LOSS: 5.259\n",
      "今天的天气员，但是以及的热，但是一个的一些�的�\n"
     ]
    },
    {
     "name": "stderr",
     "output_type": "stream",
     "text": []
    },
    {
     "name": "stdout",
     "output_type": "stream",
     "text": [
      "EP: 1 STEP: 550 T_LOSS: 5.180 V_LOSS: 5.248\n",
      "今天的天气穆的研究，而这些，但是一起，但是\n"
     ]
    },
    {
     "name": "stderr",
     "output_type": "stream",
     "text": []
    },
    {
     "name": "stdout",
     "output_type": "stream",
     "text": [
      "EP: 1 STEP: 600 T_LOSS: 5.076 V_LOSS: 5.201\n",
      "今天的天气员 * 《 * 《 * 《 * 《 * \n"
     ]
    },
    {
     "name": "stderr",
     "output_type": "stream",
     "text": []
    },
    {
     "name": "stdout",
     "output_type": "stream",
     "text": [
      "EP: 1 STEP: 650 T_LOSS: 5.020 V_LOSS: 5.138\n",
      "今天的天气究，这些的�，而言，而临的热，\n"
     ]
    },
    {
     "name": "stderr",
     "output_type": "stream",
     "text": []
    },
    {
     "name": "stdout",
     "output_type": "stream",
     "text": [
      "EP: 1 STEP: 700 T_LOSS: 5.019 V_LOSS: 5.106\n",
      "今天的天气员会议员会的破的价格612，但是一些的�\n"
     ]
    },
    {
     "name": "stderr",
     "output_type": "stream",
     "text": []
    },
    {
     "name": "stdout",
     "output_type": "stream",
     "text": [
      "EP: 1 STEP: 750 T_LOSS: 4.965 V_LOSS: 5.071\n",
      "今天的天气员的的人的的是由于是由于是在此的的的的的\n"
     ]
    },
    {
     "name": "stderr",
     "output_type": "stream",
     "text": []
    },
    {
     "name": "stdout",
     "output_type": "stream",
     "text": [
      "EP: 1 STEP: 800 T_LOSS: 4.931 V_LOSS: 5.061\n",
      "今天的天气员会，他的一种，因此外，他们的一种，他的\n"
     ]
    },
    {
     "name": "stderr",
     "output_type": "stream",
     "text": []
    },
    {
     "name": "stdout",
     "output_type": "stream",
     "text": [
      "EP: 1 STEP: 850 T_LOSS: 4.912 V_LOSS: 5.027\n",
      "今天的天气员会，但是一样，但是一些，Chronoperates，但是一\n"
     ]
    },
    {
     "name": "stderr",
     "output_type": "stream",
     "text": []
    },
    {
     "name": "stdout",
     "output_type": "stream",
     "text": [
      "EP: 1 STEP: 900 T_LOSS: 4.899 V_LOSS: 5.013\n",
      "今天的天气员会的病���的热�员会的病\n"
     ]
    },
    {
     "name": "stderr",
     "output_type": "stream",
     "text": []
    },
    {
     "name": "stdout",
     "output_type": "stream",
     "text": [
      "EP: 1 STEP: 950 T_LOSS: 4.830 V_LOSS: 4.980\n",
      "今天的天气究行动物种的烈的一些的烈的�\n"
     ]
    },
    {
     "name": "stderr",
     "output_type": "stream",
     "text": []
    },
    {
     "name": "stdout",
     "output_type": "stream",
     "text": [
      "EP: 1 STEP: 1000 T_LOSS: 4.830 V_LOSS: 4.951\n",
      "今天的天气员会议员Hell Maisenne Lee，而得到了这是一个的是由于\n"
     ]
    },
    {
     "name": "stderr",
     "output_type": "stream",
     "text": []
    },
    {
     "name": "stdout",
     "output_type": "stream",
     "text": [
      "EP: 1 STEP: 1050 T_LOSS: 4.843 V_LOSS: 4.950\n",
      "今天的天气员会的一些的一种，但是由于是Cardano的是由于\n"
     ]
    },
    {
     "name": "stderr",
     "output_type": "stream",
     "text": []
    },
    {
     "name": "stdout",
     "output_type": "stream",
     "text": [
      "EP: 1 STEP: 1100 T_LOSS: 4.831 V_LOSS: 4.923\n",
      "今天的天气员会议员会议员会议员，但是一些，但是一种\n"
     ]
    },
    {
     "name": "stderr",
     "output_type": "stream",
     "text": []
    },
    {
     "name": "stdout",
     "output_type": "stream",
     "text": [
      "EP: 1 STEP: 1150 T_LOSS: 4.798 V_LOSS: 4.895\n",
      "今天的天气员的人的机车的机车的机车车车车车车车站车\n"
     ]
    },
    {
     "name": "stderr",
     "output_type": "stream",
     "text": [
      "training:   0%|          | 0/10 [05:36<?, ?it/s]\n"
     ]
    },
    {
     "ename": "KeyboardInterrupt",
     "evalue": "",
     "output_type": "error",
     "traceback": [
      "\u001b[0;31m---------------------------------------------------------------------------\u001b[0m",
      "\u001b[0;31mKeyboardInterrupt\u001b[0m                         Traceback (most recent call last)",
      "Cell \u001b[0;32mIn[58], line 5\u001b[0m\n\u001b[1;32m      3\u001b[0m optimizer \u001b[38;5;241m=\u001b[39m torch\u001b[38;5;241m.\u001b[39moptim\u001b[38;5;241m.\u001b[39mAdamW(model\u001b[38;5;241m.\u001b[39mparameters(),lr\u001b[38;5;241m=\u001b[39mLR,weight_decay\u001b[38;5;241m=\u001b[39mWEIGHT_DECAY)\n\u001b[1;32m      4\u001b[0m tokenizer \u001b[38;5;241m=\u001b[39mtiktoken\u001b[38;5;241m.\u001b[39mget_encoding(TOKEN_TYPE)\n\u001b[0;32m----> 5\u001b[0m train_losses,val_losses,track_tokens_seen \u001b[38;5;241m=\u001b[39m\u001b[43mtrain_model_process\u001b[49m\u001b[43m(\u001b[49m\u001b[43mmodel\u001b[49m\u001b[43m,\u001b[49m\u001b[43mtrain_loader\u001b[49m\u001b[43m,\u001b[49m\u001b[43mvalid_loader\u001b[49m\u001b[43m,\u001b[49m\n\u001b[1;32m      6\u001b[0m \u001b[43m                                                               \u001b[49m\u001b[43moptimizer\u001b[49m\u001b[43m,\u001b[49m\u001b[43mdevice\u001b[49m\u001b[43m,\u001b[49m\u001b[43mnum_epochs\u001b[49m\u001b[38;5;241;43m=\u001b[39;49m\u001b[43mGPT_CONFIG\u001b[49m\u001b[43m[\u001b[49m\u001b[38;5;124;43m'\u001b[39;49m\u001b[38;5;124;43mnum_epochs\u001b[39;49m\u001b[38;5;124;43m'\u001b[39;49m\u001b[43m]\u001b[49m\u001b[43m,\u001b[49m\n\u001b[1;32m      7\u001b[0m \u001b[43m                                                               \u001b[49m\u001b[43meval_freq\u001b[49m\u001b[38;5;241;43m=\u001b[39;49m\u001b[43mEVAL_FREQ\u001b[49m\u001b[43m,\u001b[49m\u001b[43meval_iter\u001b[49m\u001b[38;5;241;43m=\u001b[39;49m\u001b[43mEVAL_ITER\u001b[49m\u001b[43m,\u001b[49m\n\u001b[1;32m      8\u001b[0m \u001b[43m                                                               \u001b[49m\u001b[43mstart_context\u001b[49m\u001b[38;5;241;43m=\u001b[39;49m\u001b[38;5;124;43m\"\u001b[39;49m\u001b[38;5;124;43m今天的天气\u001b[39;49m\u001b[38;5;124;43m\"\u001b[39;49m\u001b[43m,\u001b[49m\n\u001b[1;32m      9\u001b[0m \u001b[43m                                                               \u001b[49m\u001b[43mtokenizer\u001b[49m\u001b[38;5;241;43m=\u001b[39;49m\u001b[43mtokenizer\u001b[49m\n\u001b[1;32m     10\u001b[0m \u001b[43m                                                               \u001b[49m\u001b[43m)\u001b[49m\n",
      "Cell \u001b[0;32mIn[57], line 11\u001b[0m, in \u001b[0;36mtrain_model_process\u001b[0;34m(model, train_loader, valid_loader, optimizer, device, num_epochs, eval_freq, eval_iter, start_context, tokenizer)\u001b[0m\n\u001b[1;32m      9\u001b[0m model\u001b[38;5;241m.\u001b[39mtrain()\n\u001b[1;32m     10\u001b[0m \u001b[38;5;28;01mfor\u001b[39;00m input_batch,target_batch \u001b[38;5;129;01min\u001b[39;00m tqdm(train_loader, desc\u001b[38;5;241m=\u001b[39m\u001b[38;5;124mf\u001b[39m\u001b[38;5;124m\"\u001b[39m\u001b[38;5;124mEpoch \u001b[39m\u001b[38;5;132;01m{\u001b[39;00mepoch\u001b[38;5;241m+\u001b[39m\u001b[38;5;241m1\u001b[39m\u001b[38;5;132;01m}\u001b[39;00m\u001b[38;5;124m\"\u001b[39m, leave\u001b[38;5;241m=\u001b[39m\u001b[38;5;28;01mFalse\u001b[39;00m):\n\u001b[0;32m---> 11\u001b[0m     input_batch, target_batch \u001b[38;5;241m=\u001b[39m \u001b[43minput_batch\u001b[49m\u001b[38;5;241;43m.\u001b[39;49m\u001b[43mto\u001b[49m\u001b[43m(\u001b[49m\u001b[43mdevice\u001b[49m\u001b[43m)\u001b[49m, target_batch\u001b[38;5;241m.\u001b[39mto(device)  \u001b[38;5;66;03m# 数据移到GPU\u001b[39;00m\n\u001b[1;32m     12\u001b[0m     optimizer\u001b[38;5;241m.\u001b[39mzero_grad()\n\u001b[1;32m     13\u001b[0m     loss \u001b[38;5;241m=\u001b[39m calc_loss_batch(input_batch,target_batch,model,device)\n",
      "\u001b[0;31mKeyboardInterrupt\u001b[0m: "
     ]
    }
   ],
   "source": [
    "model =GPTModel(GPT_CONFIG)\n",
    "model.to(device)\n",
    "optimizer = torch.optim.AdamW(model.parameters(),lr=LR,weight_decay=WEIGHT_DECAY)\n",
    "tokenizer =tiktoken.get_encoding(TOKEN_TYPE)\n",
    "train_losses,val_losses,track_tokens_seen =train_model_process(model,train_loader,valid_loader,\n",
    "                                                               optimizer,device,num_epochs=GPT_CONFIG['num_epochs'],\n",
    "                                                               eval_freq=EVAL_FREQ,eval_iter=EVAL_ITER,\n",
    "                                                               start_context=\"今天的天气\",\n",
    "                                                               tokenizer=tokenizer\n",
    "                                                               )"
   ]
  },
  {
   "cell_type": "code",
   "execution_count": null,
   "id": "ff1b0aaa",
   "metadata": {},
   "outputs": [],
   "source": [
    "torch.save({\n",
    "    \"model_state_dict\": model.state_dict(),\n",
    "    \"optimizer_state_dict\": optimizer.state_dict(),\n",
    "    },\n",
    "    \"..\\model\\model_and_optimizer.pth\"\n",
    ")"
   ]
  },
  {
   "cell_type": "code",
   "execution_count": null,
   "id": "d20c7989",
   "metadata": {},
   "outputs": [],
   "source": [
    "checkpoint = torch.load(\"model_and_optimizer.pth\", map_location=device)\n",
    "model = GPTModel(GPT_CONFIG)\n",
    "model.load_state_dict(checkpoint[\"model_state_dict\"])\n",
    "optimizer = torch.optim.AdamW(model.parameters(), lr=5e-4, weight_decay=0.1)\n",
    "optimizer.load_state_dict(checkpoint[\"optimizer_state_dict\"])\n"
   ]
  }
 ],
 "metadata": {
  "kernelspec": {
   "display_name": "env_python",
   "language": "python",
   "name": "python3"
  },
  "language_info": {
   "codemirror_mode": {
    "name": "ipython",
    "version": 3
   },
   "file_extension": ".py",
   "mimetype": "text/x-python",
   "name": "python",
   "nbconvert_exporter": "python",
   "pygments_lexer": "ipython3",
   "version": "3.10.16"
  }
 },
 "nbformat": 4,
 "nbformat_minor": 5
}
