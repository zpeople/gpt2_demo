{
 "cells": [
  {
   "cell_type": "markdown",
   "id": "8207122a",
   "metadata": {},
   "source": [
    "# GPT-2 Model\n"
   ]
  },
  {
   "cell_type": "code",
   "execution_count": null,
   "id": "865f44de",
   "metadata": {},
   "outputs": [],
   "source": [
    "import sys\n",
    "import os\n",
    "\n",
    "\n",
    "try:\n",
    "    get_ipython\n",
    "    current_dir = os.getcwd()\n",
    "except NameError:\n",
    "    current_dir = os.path.dirname(os.path.abspath(__file__))\n",
    "# Set path，temporary path expansion\n",
    "parent_dir = os.path.abspath(os.path.join(current_dir, '..'))\n",
    "if parent_dir not in sys.path:\n",
    "    sys.path.append(parent_dir)\n",
    "    \n",
    "import torch\n",
    "import torch.nn as nn\n",
    "from torch.testing import assert_close\n",
    "torch.manual_seed(42)\n",
    "import tool, loaddata ,model_wrapper,models\n",
    "from tqdm import tqdm\n",
    "from torch.utils.tensorboard import SummaryWriter\n",
    "import tiktoken"
   ]
  },
  {
   "cell_type": "markdown",
   "id": "55e16e88",
   "metadata": {},
   "source": [
    "### Config"
   ]
  },
  {
   "cell_type": "code",
   "execution_count": null,
   "id": "5e81c44d",
   "metadata": {},
   "outputs": [],
   "source": [
    "\n",
    "IS_SKIP_TEST =True #开关测试代码\n",
    "\n",
    "IS_EN =True # 中英文数据集切换\n",
    "\n",
    "IS_TRAIN=True # 预训练开关\n",
    "\n",
    "\n",
    "GPT_CONFIG = {\n",
    "    \"num_epochs\":4,\n",
    "    \"batch_size\":4,\n",
    "    \"vocab_size\": 50257,     \n",
    "    \"context_len\": 256,  \n",
    "    \"emb_dim\": 768,          \n",
    "    \"n_heads\": 8,          \n",
    "    \"n_layers\": 12,         \n",
    "    \"drop_rate\": 0.1,      \n",
    "    \"initializer_range\":0.02,  \n",
    "    \"qkv_bias\": False ,     \n",
    "}\n",
    "\n",
    "TOKEN_TYPE=\"gpt2\"\n",
    "# TOKEN_TYPE=\"cl100k_base\"\n",
    "\n",
    "LR= 1e-3\n",
    "WEIGHT_DECAY =0.1\n",
    "\n",
    "#评估频率\n",
    "EVAL_FREQ = 5\n",
    "EVAL_ITER = 5\n"
   ]
  },
  {
   "cell_type": "code",
   "execution_count": null,
   "id": "d784ca60",
   "metadata": {},
   "outputs": [],
   "source": [
    "! nvidia-smi"
   ]
  },
  {
   "cell_type": "markdown",
   "id": "217e2af6",
   "metadata": {},
   "source": [
    "### Set device to (type='cuda')"
   ]
  },
  {
   "cell_type": "code",
   "execution_count": null,
   "id": "2cb94447",
   "metadata": {},
   "outputs": [],
   "source": [
    "device = torch.device(\"cuda\" if torch.cuda.is_available() else \"cpu\")\n",
    "device"
   ]
  },
  {
   "cell_type": "markdown",
   "id": "7e8f4f13",
   "metadata": {},
   "source": [
    "### Tensorboard Log"
   ]
  },
  {
   "cell_type": "code",
   "execution_count": null,
   "id": "434f8031",
   "metadata": {},
   "outputs": [],
   "source": [
    "# 创建一个日志写入器\n",
    "import time\n",
    "starttime = time.strftime(\"%Y-%m-%d_%H-%M-%S\")\n",
    "print(\"Start experiment:\", starttime)\n",
    "logpath =\"../log/\"\n",
    "log_writer = SummaryWriter(log_dir=logpath+starttime[:16],comment=starttime[:16],flush_secs=60)#以实验时间命名\n"
   ]
  },
  {
   "cell_type": "markdown",
   "id": "0978e686",
   "metadata": {},
   "source": [
    "## Load Data"
   ]
  },
  {
   "cell_type": "markdown",
   "id": "1b1ba29a",
   "metadata": {},
   "source": [
    "### Select which language of the text to load"
   ]
  },
  {
   "cell_type": "code",
   "execution_count": null,
   "id": "d85e6821",
   "metadata": {},
   "outputs": [],
   "source": [
    "if IS_EN :\n",
    "    file_path =\"../datasets/the-verdict.txt\"\n",
    "    train_data, valid_data =loaddata.load_data_en(file_path)\n",
    "else:\n",
    "    train_data, valid_data = loaddata.load_data_cn(True,0.8)\n",
    "    \n",
    "len(train_data)"
   ]
  },
  {
   "cell_type": "markdown",
   "id": "15db966b",
   "metadata": {},
   "source": [
    "## GPTDataLoader"
   ]
  },
  {
   "cell_type": "code",
   "execution_count": null,
   "id": "b4745946",
   "metadata": {},
   "outputs": [],
   "source": [
    "@tool.train_execution(IS_TRAIN)\n",
    "def Dataloadering():\n",
    "    train_loader = model_wrapper.GPTDataloader(\n",
    "        train_data,\n",
    "        TOKEN_TYPE,\n",
    "        batch_size = GPT_CONFIG['batch_size'],\n",
    "        max_len = GPT_CONFIG[\"context_len\"],\n",
    "        stride = GPT_CONFIG[\"context_len\"] // 2, #适度重叠（stride = max_len // 2）\n",
    "        drop_last=True,\n",
    "        shuffle= True, #训练时打乱，验证 / 测试时不打乱：训练时打乱是为了提升泛化能力\n",
    "        num_works=0   \n",
    "        )\n",
    "\n",
    "    print(F'共{len(train_loader)}个批次，'\n",
    "        f'每批{train_loader.batch_size}个样本，'\n",
    "        f'每个样本是长度为 {train_loader.dataset.max_len} 的 token 序列')\n",
    "\n",
    "\n",
    "    print(\"Train loader:\")\n",
    "    if len(train_loader)<10: #只在测试的时候查看一下数据，数据过大，耗时很长\n",
    "        x, y =next(iter(train_loader))\n",
    "        print(x.shape, y.shape)\n",
    "\n",
    "\n",
    "    valid_loader = model_wrapper.GPTDataloader(\n",
    "        valid_data,\n",
    "        TOKEN_TYPE,\n",
    "        batch_size = GPT_CONFIG['batch_size'],\n",
    "        max_len = GPT_CONFIG[\"context_len\"],\n",
    "        stride = GPT_CONFIG[\"context_len\"] ,\n",
    "        drop_last=False, # 验证 / 测试阶段：需要完整评估所有样本的性能，不能遗漏任何数据点\n",
    "        shuffle= False, #验证 / 测试时不打乱是为了结果可复现，方便对比不同模型的性能\n",
    "        num_works=0\n",
    "        )\n",
    "\n",
    "    print(\"Validation loader:\")\n",
    "    if len(valid_loader)<10:\n",
    "        x, y =next(iter(valid_loader))\n",
    "        print(x.shape, y.shape)\n",
    "        \n",
    "    return train_loader,valid_loader"
   ]
  },
  {
   "cell_type": "markdown",
   "id": "a7e8ead4",
   "metadata": {},
   "source": [
    "## Training model\n",
    "### Training process function"
   ]
  },
  {
   "cell_type": "code",
   "execution_count": null,
   "id": "c831d6cc",
   "metadata": {},
   "outputs": [],
   "source": [
    "\n",
    "def train_model_process(model,train_loader,valid_loader,\n",
    "                        optimizer,device,num_epochs,\n",
    "                        eval_freq,eval_iter,\n",
    "                        start_context,tokenizer,checkpoint_path=None):\n",
    "       # 初始化训练状态（如果有 checkpoint 则加载）\n",
    "    if checkpoint_path and os.path.exists(checkpoint_path):\n",
    "        print(f\"Resuming from checkpoint: {checkpoint_path}\")\n",
    "        state = model_wrapper.load_checkpoint(model, optimizer, checkpoint_path)\n",
    "        start_epoch = state['epoch']\n",
    "        global_step = state['global_step']\n",
    "        train_losses = state['train_losses']\n",
    "        val_losses = state['val_losses']\n",
    "        track_tokens_seen = state['track_tokens_seen']\n",
    "        tokens_seen = track_tokens_seen[-1] if track_tokens_seen else 0\n",
    "    else:\n",
    "        # 从头开始训练\n",
    "        start_epoch = 0\n",
    "        global_step = -1\n",
    "        train_losses, val_losses = [], []\n",
    "        track_tokens_seen = []\n",
    "        tokens_seen = 0\n",
    "\n",
    "\n",
    "    for epoch in tqdm(range(start_epoch, num_epochs), desc=\"training\"):\n",
    "        model.train() #开启训练 启用dropout、启用Batchnorm\n",
    "        freq =100 \n",
    "        freq =100 if freq<len(train_loader) else  len(train_loader) \n",
    "        print (freq)\n",
    "        for input_batch,target_batch in tqdm(train_loader, desc=f\"Epoch {epoch+1}\", leave=False):\n",
    "            optimizer.zero_grad()\n",
    "            loss = model_wrapper.calc_loss_batch(input_batch,target_batch,model,device) \n",
    "            loss.backward()\n",
    "            optimizer.step()\n",
    "            tokens_seen += input_batch.numel()\n",
    "            global_step +=1\n",
    "            \n",
    "           \n",
    "            if global_step % eval_freq == 0:\n",
    "                train_loss, val_loss = model_wrapper.evaluate_model(model,train_loader,valid_loader,device,eval_iter)\n",
    "                train_losses.append(train_loss)\n",
    "                val_losses.append(val_loss)\n",
    "                track_tokens_seen.append(tokens_seen)\n",
    "                log_writer.add_scalar('Training/Train_Loss', train_loss, global_step)\n",
    "                log_writer.add_scalar('Training/Val_Loss', val_loss, global_step)\n",
    "                print(f'EP: {epoch+1} STEP: {global_step} '\n",
    "                    f'{f\"T_LOSS: {train_loss:.3f}\" if train_loss is not None else \"T_LOSS: None \"} '\n",
    "                    f'{f\"V_LOSS: {val_loss:.3f}\" if val_loss is not None else \"V_LOSS: None\"}'\n",
    "                    )\n",
    "                model_wrapper.generate_and_print(model,tokenizer,device,start_context,20)\n",
    "            \n",
    "            # 定期保存 checkpoint\n",
    "            if global_step % freq == 0 and global_step != 0:\n",
    "                model_wrapper.save_checkpoint(\n",
    "                    model, optimizer, epoch, global_step,\n",
    "                    train_losses, val_losses, track_tokens_seen,\n",
    "                    f\"../model/checkpoints/epoch_{epoch}_step_{global_step}.pt\"\n",
    "                )\n",
    "    return train_losses,val_losses,track_tokens_seen"
   ]
  },
  {
   "cell_type": "code",
   "execution_count": null,
   "id": "b33a1b88",
   "metadata": {},
   "outputs": [],
   "source": [
    "# tesorboard 调用代码\n",
    "# ! tensorboard --logdir=../log  --port=6006 --host=0.0.0.0  \n",
    "# ssh -L 8888:localhost:6006 zzz@172.23.207.112    "
   ]
  },
  {
   "cell_type": "code",
   "execution_count": null,
   "id": "755ce8f5",
   "metadata": {},
   "outputs": [],
   "source": [
    "modelpath ='../model/gpt2.pt'\n",
    "start_context = \"I turned to Mrs\"\n",
    "tokenizer = tiktoken.get_encoding(TOKEN_TYPE)\n",
    "\n",
    "\n",
    "@tool.train_execution(IS_TRAIN)\n",
    "def training(savemodel=False):\n",
    "    model = models.GPTModel(GPT_CONFIG)\n",
    "    model.to(device)\n",
    "    optimizer = torch.optim.AdamW(model.parameters(),lr=LR,weight_decay=WEIGHT_DECAY)\n",
    "    train_loader,valid_loader = Dataloadering()\n",
    "    result=train_model_process(model,train_loader,valid_loader,\n",
    "                                                                optimizer,device,num_epochs=GPT_CONFIG['num_epochs'],\n",
    "                                                                eval_freq=EVAL_FREQ,eval_iter=EVAL_ITER,\n",
    "                                                                start_context=start_context,\n",
    "                                                                tokenizer=tokenizer,\n",
    "                                                                checkpoint_path='../model/checkpoints/0.pt'\n",
    "                                                                )\n",
    "    if savemodel:\n",
    "        model_wrapper.savemodel(modelpath,model,optimizer,GPT_CONFIG)  \n",
    "        \n",
    "    return result\n",
    "\n",
    "training(True)\n",
    "\n"
   ]
  },
  {
   "cell_type": "code",
   "execution_count": null,
   "id": "968b45e5",
   "metadata": {},
   "outputs": [],
   "source": [
    "log_writer.close()"
   ]
  },
  {
   "cell_type": "markdown",
   "id": "829ed6a9",
   "metadata": {},
   "source": [
    "## Load the parameters of the model"
   ]
  },
  {
   "cell_type": "markdown",
   "id": "0b6ca038",
   "metadata": {},
   "source": [
    "Load the model parameters saved for model checking"
   ]
  },
  {
   "cell_type": "code",
   "execution_count": null,
   "id": "d20c7989",
   "metadata": {},
   "outputs": [],
   "source": [
    "checkpoint = torch.load(modelpath, map_location=device)\n",
    "config = checkpoint[\"config\"]\n",
    "print(config==GPT_CONFIG)\n",
    "model = models.GPTModel(config)\n",
    "for name, param in checkpoint[\"model_state_dict\"].items():\n",
    "           print(f\"{name}: {param.shape}\")\n",
    "model.load_state_dict(checkpoint[\"model_state_dict\"])\n",
    "optimizer = torch.optim.AdamW(model.parameters(), lr=LR, weight_decay=WEIGHT_DECAY)\n",
    "optimizer.load_state_dict(checkpoint[\"optimizer_state_dict\"])\n",
    "model.to(device)\n"
   ]
  },
  {
   "cell_type": "markdown",
   "id": "c04242bb",
   "metadata": {},
   "source": [
    "### Test the generation capability of the saved model"
   ]
  },
  {
   "cell_type": "code",
   "execution_count": null,
   "id": "80e9e17c",
   "metadata": {},
   "outputs": [],
   "source": [
    "for _ in range(5):\n",
    "    model_wrapper.generate_and_print(model,tokenizer,device,start_context,100,0.8,50,1,None)"
   ]
  }
 ],
 "metadata": {
  "kernelspec": {
   "display_name": "DL_py",
   "language": "python",
   "name": "python3"
  },
  "language_info": {
   "codemirror_mode": {
    "name": "ipython",
    "version": 3
   },
   "file_extension": ".py",
   "mimetype": "text/x-python",
   "name": "python",
   "nbconvert_exporter": "python",
   "pygments_lexer": "ipython3",
   "version": "3.10.16"
  }
 },
 "nbformat": 4,
 "nbformat_minor": 5
}
