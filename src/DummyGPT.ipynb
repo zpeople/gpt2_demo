{
 "cells": [
  {
   "cell_type": "markdown",
   "id": "8207122a",
   "metadata": {},
   "source": [
    "# GPT Model\n"
   ]
  },
  {
   "cell_type": "code",
   "execution_count": null,
   "id": "865f44de",
   "metadata": {},
   "outputs": [],
   "source": [
    "\n",
    "import torch\n",
    "import torch.nn as nn\n",
    "from torch.testing import assert_close\n",
    "torch.manual_seed(42)\n",
    "import tool,loaddata\n",
    "from tqdm import tqdm\n",
    "from torch.utils.tensorboard import SummaryWriter"
   ]
  },
  {
   "cell_type": "markdown",
   "id": "55e16e88",
   "metadata": {},
   "source": [
    "### Config"
   ]
  },
  {
   "cell_type": "code",
   "execution_count": null,
   "id": "5e81c44d",
   "metadata": {},
   "outputs": [],
   "source": [
    "IS_SKIP_TEST =True\n",
    "IS_EN =True\n",
    "IS_TRAIN=True\n",
    "\n",
    "\n",
    "GPT_CONFIG = {\n",
    "    \"num_epochs\":10,\n",
    "    \"batch_size\":4,\n",
    "    \"vocab_size\": 50257,     # 词汇表大小\n",
    "    \"context_len\": 256,  # 上下文长度\n",
    "    \"emb_dim\": 512,          # 嵌入维度\n",
    "    \"n_heads\": 8,           # 注意力头的数量\n",
    "    \"n_layers\": 12,          # 层数\n",
    "    \"drop_rate\": 0.1,        # dropout率\n",
    "    \"qkv_bias\": False ,      # 查询-键-值偏置\n",
    "}\n",
    "\n",
    "TOKEN_TYPE=\"gpt2\"\n",
    "# TOKEN_TYPE=\"cl100k_base\"\n",
    "LR= 1e-3\n",
    "WEIGHT_DECAY =0.1\n",
    "\n",
    "EVAL_FREQ = 5\n",
    "EVAL_ITER = 5\n"
   ]
  },
  {
   "cell_type": "code",
   "execution_count": null,
   "id": "d784ca60",
   "metadata": {},
   "outputs": [],
   "source": [
    "! nvidia-smi"
   ]
  },
  {
   "cell_type": "markdown",
   "id": "217e2af6",
   "metadata": {},
   "source": [
    "### Set device to (type='cuda')"
   ]
  },
  {
   "cell_type": "code",
   "execution_count": null,
   "id": "2cb94447",
   "metadata": {},
   "outputs": [],
   "source": [
    "device = torch.device(\"cuda\" if torch.cuda.is_available() else \"cpu\")\n",
    "device"
   ]
  },
  {
   "cell_type": "markdown",
   "id": "7e8f4f13",
   "metadata": {},
   "source": [
    "### Tensorboard Log"
   ]
  },
  {
   "cell_type": "code",
   "execution_count": null,
   "id": "434f8031",
   "metadata": {},
   "outputs": [],
   "source": [
    "# 创建一个日志写入器\n",
    "import time\n",
    "starttime = time.strftime(\"%Y-%m-%d_%H-%M-%S\")\n",
    "print(\"Start experiment:\", starttime)\n",
    "log_writer = SummaryWriter(log_dir=\"../log/\"+starttime[:13],comment=starttime[:13],flush_secs=60)#以实验时间命名，[:13]可以自定义，我是定义到小时基本能确定是哪个实验了\n"
   ]
  },
  {
   "cell_type": "markdown",
   "id": "edccb80e",
   "metadata": {},
   "source": [
    "## Define Test Model"
   ]
  },
  {
   "cell_type": "code",
   "execution_count": null,
   "id": "6e693144",
   "metadata": {},
   "outputs": [],
   "source": [
    "\n",
    "class DummyTransformerBlock(nn.Module):\n",
    "    def __init__(self, cfg):\n",
    "        super().__init__()\n",
    "    \n",
    "    def forward(self,x):\n",
    "        return x\n",
    "    \n",
    "class DummyLayerNorm(nn.Module):\n",
    "    def __init__(self, norm_shape,eps=1e-5):\n",
    "        super().__init__()\n",
    "        \n",
    "    def forward(self,x):\n",
    "        return x\n",
    "        \n",
    "\n",
    "class DummyGPT(nn.Module):\n",
    "    def __init__(self,cfg):\n",
    "        super().__init__()\n",
    "        self.tok_emb = nn.Embedding(cfg['vocab_size'],cfg['emb_dim'])\n",
    "        self.pos_emb = nn.Embedding(cfg['context_len'],cfg['emb_dim'])\n",
    "        self.drop_emb = nn.Dropout(cfg[\"drop_rate\"])\n",
    "        self.trf_blocks =  nn.Sequential(\n",
    "            *[DummyTransformerBlock(cfg) for _ in range(cfg[\"n_layers\"])]\n",
    "        )\n",
    "        self.final_norm = DummyLayerNorm(cfg[\"emb_dim\"])\n",
    "        self.out_head = nn.Linear(\n",
    "            cfg['emb_dim'],cfg['vocab_size'],bias=False\n",
    "        )\n",
    "       \n",
    "    def forward(self,in_idx):\n",
    "        batch_size, seq_len = in_idx.shape  #in_idx 通常是一个整数张量（Tensor），形状一般为 (batch_size, seq_len)\n",
    "        tok_embeds = self.tok_emb(in_idx) #(batch_size, seq_len, emb_dim)\n",
    "        pos_embeds = self.pos_emb(torch.arange(seq_len,device=in_idx.device))  #生成一个从 0 到 seq_len-1 的整数序列\n",
    "        x = tok_embeds + pos_embeds\n",
    "        x = self.drop_emb(x)\n",
    "        x = self.trf_blocks(x)\n",
    "        x = self.final_norm(x)\n",
    "        logits = self.out_head(x)\n",
    "        return logits\n",
    "        \n",
    "        "
   ]
  },
  {
   "cell_type": "markdown",
   "id": "fbff7872",
   "metadata": {},
   "source": [
    "### view model parameters"
   ]
  },
  {
   "cell_type": "code",
   "execution_count": null,
   "id": "55445df4",
   "metadata": {},
   "outputs": [],
   "source": [
    "@tool.skip_execution(skip=IS_SKIP_TEST)\n",
    "def test_dummyModel():\n",
    "    model = DummyGPT(GPT_CONFIG)\n",
    "    return model\n",
    "\n",
    "test_dummyModel()"
   ]
  },
  {
   "cell_type": "markdown",
   "id": "f7c7a9ed",
   "metadata": {},
   "source": [
    "## Define layerNorm"
   ]
  },
  {
   "cell_type": "code",
   "execution_count": null,
   "id": "c0220738",
   "metadata": {},
   "outputs": [],
   "source": [
    "class LayerNorm(nn.Module):\n",
    "    def __init__(self, emb_dim):\n",
    "        super().__init__()\n",
    "        self.eps = 1e-5\n",
    "        self.scale = nn.Parameter(torch.ones(emb_dim))\n",
    "        self.shift = nn.Parameter(torch.zeros(emb_dim))\n",
    "        \n",
    "    def forward(self,x):\n",
    "        mean = x.mean(dim=-1, keepdim=True)\n",
    "        var = x.var(dim =-1 ,keepdim =True, unbiased =False)\n",
    "        norm_x = (x-mean)/torch.sqrt(var+self.eps)\n",
    "        return self.scale*norm_x + self.shift"
   ]
  },
  {
   "cell_type": "markdown",
   "id": "756c41b2",
   "metadata": {},
   "source": [
    "### test layerNorm"
   ]
  },
  {
   "cell_type": "code",
   "execution_count": null,
   "id": "22a357ec",
   "metadata": {},
   "outputs": [],
   "source": [
    "@tool.skip_execution(skip=IS_SKIP_TEST)\n",
    "def test_layer_norm():\n",
    "    batch_size = 2\n",
    "    seq_len = 5\n",
    "    emb_dim = 3  \n",
    "    x = torch.randn(batch_size, seq_len, emb_dim)  # 随机生成输入张量\n",
    "    \n",
    "    custom_ln = LayerNorm(emb_dim)\n",
    "    official_ln = nn.LayerNorm(emb_dim, eps=1e-5, elementwise_affine=True)\n",
    "    \n",
    "\n",
    "    official_ln.weight.data.copy_(custom_ln.scale.data)\n",
    "    official_ln.bias.data.copy_(custom_ln.shift.data)\n",
    " \n",
    "    custom_out = custom_ln(x)\n",
    "    official_out = official_ln(x)\n",
    "    print(custom_out)\n",
    "    print(official_out)\n",
    "\n",
    "    assert_close(\n",
    "        custom_out, \n",
    "        official_out, \n",
    "        rtol=1e-5,  # 相对误差容忍度\n",
    "        atol=1e-5   # 绝对误差容忍度\n",
    "    )\n",
    "    print(\"自定义LayerNorm与官方实现输出一致\")\n",
    "\n",
    "test_layer_norm()"
   ]
  },
  {
   "cell_type": "markdown",
   "id": "396726f8",
   "metadata": {},
   "source": [
    "## Define activate function\n",
    "\n",
    "Φ(x) ≈ 0.5 * (1 + tanh(√(2/π) * (x + 0.044715 * x³)))"
   ]
  },
  {
   "cell_type": "code",
   "execution_count": null,
   "id": "8633271f",
   "metadata": {},
   "outputs": [],
   "source": [
    "class GELU(nn.Module):\n",
    "    def __init__(self, *args, **kwargs):\n",
    "        super().__init__(*args, **kwargs)\n",
    "        \n",
    "    def forward(self,x):\n",
    "        return 0.5*x*(1+ \n",
    "                      torch.tanh(torch.sqrt(torch.tensor(2/torch.pi))\n",
    "                                 *(x+0.044715*torch.pow(x,3))\n",
    "                                )\n",
    "                      )\n",
    "        \n"
   ]
  },
  {
   "cell_type": "markdown",
   "id": "0adf57d8",
   "metadata": {},
   "source": [
    "### test gelu"
   ]
  },
  {
   "cell_type": "code",
   "execution_count": null,
   "id": "d9027426",
   "metadata": {},
   "outputs": [],
   "source": [
    "@tool.skip_execution(skip=IS_SKIP_TEST)\n",
    "def test_gelu():\n",
    "    x = torch.tensor([-3.0, -1.0, 0.0, 0.5, 1.0, 2.0, 5.0])\n",
    "    \n",
    "    custom_gelu = GELU()\n",
    "    official_gelu = nn.GELU()\n",
    "\n",
    "    custom_out = custom_gelu(x)\n",
    "    official_out = official_gelu(x)\n",
    "    \n",
    "    # 打印结果进行直观对比\n",
    "    print(\"输入值:\", x)\n",
    "    print(\"自定义GELU输出:\", custom_out)\n",
    "    print(\"官方GELU输出:\", official_out)\n",
    " \n",
    "    assert_close(\n",
    "        custom_out,\n",
    "        official_out,\n",
    "        rtol=1e-3,  # 相对误差容忍度\n",
    "        atol=1e-3   # 绝对误差容忍度\n",
    "    )\n",
    "    print(\"\\n自定义GELU与官方实现近似一致\")\n",
    "    \n",
    "test_gelu()"
   ]
  },
  {
   "cell_type": "markdown",
   "id": "29b26a66",
   "metadata": {},
   "source": [
    "## Define FFN\n",
    "通过两层线性变换和激活函数，对注意力机制输出的特征进行非线性加工，增强模型表达能力。"
   ]
  },
  {
   "cell_type": "code",
   "execution_count": null,
   "id": "63108816",
   "metadata": {},
   "outputs": [],
   "source": [
    "class FeedForward(nn.Module):\n",
    "    def __init__(self, cfg):\n",
    "        super().__init__()\n",
    "        self.layers = nn.Sequential(\n",
    "            #中间层hidden_dim通常设为4*emb_dim（如原始 Transformer 中为 512→2048→512），通过扩展维度捕捉更丰富的特征\n",
    "            nn.Linear(cfg['emb_dim'],4*cfg['emb_dim']),  \n",
    "            GELU(),\n",
    "            nn.Dropout(cfg['drop_rate']),\n",
    "            nn.Linear(4*cfg['emb_dim'],cfg['emb_dim'])\n",
    "        )\n",
    "        \n",
    "    def forward(self,x):\n",
    "        return self.layers(x)"
   ]
  },
  {
   "cell_type": "markdown",
   "id": "e6628b29",
   "metadata": {},
   "source": [
    "## Define MultiAttention"
   ]
  },
  {
   "cell_type": "code",
   "execution_count": null,
   "id": "1d5d1868",
   "metadata": {},
   "outputs": [],
   "source": [
    "class CausalAttention(nn.Module):\n",
    "    def __init__(self, d_in, d_out,context_len,dropout,qkv_bias=False):\n",
    "        super().__init__()\n",
    "        self.d_out =d_out\n",
    "        self.W_q = nn.Linear(d_in,d_out,bias= qkv_bias)\n",
    "        self.W_k = nn.Linear(d_in,d_out,bias= qkv_bias)\n",
    "        self.W_v = nn.Linear(d_in,d_out,bias= qkv_bias)\n",
    "        self.dropout = nn.Dropout(dropout)\n",
    "        #缓冲区（buffer）是模型中不需要被训练的参数（与 nn.Parameter 不同，后者是可学习参数），但会随模型一起保存（state_dict 中包含）\n",
    "        self.register_buffer(\n",
    "            'mask', \n",
    "            torch.triu(torch.ones(context_len,context_len),diagonal=1)\n",
    "        )\n",
    "    \n",
    "    def forward(self,x):\n",
    "        b,num_tokens,d_in = x.shape\n",
    "        keys = self.W_k(x)\n",
    "        queries = self.W_q(x)\n",
    "        values = self.W_v(x)\n",
    "        \n",
    "        att_score = queries @ keys.transpose(1,2)\n",
    "        att_score.masked_fill_(self.mask.bool()[:num_tokens,:num_tokens],-torch.inf) # 上面的register_buffer  形状为 (num_tokens, num_tokens) 的子矩阵\n",
    "        att_weight = torch.softmax(att_score/keys.shape[-1]**0.5, dim=-1)\n",
    "        att_weight = self.dropout(att_weight)\n",
    "        context_vec = att_weight @ values\n",
    "        return context_vec\n",
    "        \n",
    "class MultiHeadAttendtion(nn.Module):\n",
    "    def __init__(self, d_in, d_out,context_len,dropout,num_heads,qkv_bias=False):\n",
    "        super().__init__()\n",
    "        # ModuleList与nn.Sequential不同，它不自动执行前向传播，而是需要手动遍历调用，适合需要单独处理每个子模块的场景\n",
    "        self.heads = nn.ModuleList(\n",
    "            [CausalAttention(d_in,d_out,context_len,dropout,qkv_bias) for _ in range(num_heads)]\n",
    "        )\n",
    "        \n",
    "    def forward(self,x):\n",
    "        return torch.cat([head(x) for head in self.heads],dim=-1)"
   ]
  },
  {
   "cell_type": "code",
   "execution_count": null,
   "id": "c7472d49",
   "metadata": {},
   "outputs": [],
   "source": [
    "# TODO 更高效的MutiAttention 减少计算量\n",
    "#参数规模更小（d_model×d_model 对比 num_heads×d_model×head_dim\n",
    "class MultiHeadAttendtion_new(nn.Module):\n",
    "    def __init__(self, d_in, d_out,context_len,dropout,num_heads,qkv_bias=False):\n",
    "        super().__init__()\n",
    "        self.d_out =d_out\n",
    "        self.num_heads = num_heads\n",
    "        self.head_dim = d_out // num_heads\n",
    "        self.W_q = nn.Linear(d_in,d_out,bias= qkv_bias)\n",
    "        self.W_k = nn.Linear(d_in,d_out,bias= qkv_bias)\n",
    "        self.W_v = nn.Linear(d_in,d_out,bias= qkv_bias)\n",
    "        self.out_proj =nn.Linear(d_out,d_out) # out_proj 可以学习如何 “融合” 这些头的信息（例如对不同头的特征赋予不同权重），而不是简单保留原始拼接结果\n",
    "        self.dropout = nn.Dropout(dropout)\n",
    "        self.register_buffer(\n",
    "            'mask', \n",
    "            torch.triu(torch.ones(context_len,context_len),diagonal=1)\n",
    "        )\n",
    "    \n",
    "    def forward(self,x):\n",
    "        b,num_tokens,d_in = x.shape\n",
    "        keys = self.W_k(x)\n",
    "        queries = self.W_q(x)\n",
    "        values = self.W_v(x)\n",
    "        \n",
    "        keys = keys.view(b,num_tokens,self.num_heads,self.head_dim)\n",
    "        queries = queries.view(b,num_tokens,self.num_heads,self.head_dim)\n",
    "        values = values.view(b,num_tokens,self.num_heads,self.head_dim)\n",
    "         \n",
    "        #(b,num_tokens,num_heads,head_dim) --> (b,num_heads,num_tokens,head_dim)         \n",
    "        keys = keys.transpose(1,2)\n",
    "        queries = queries .transpose(1,2)\n",
    "        values = values.transpose(1,2)\n",
    "        \n",
    "        \n",
    "        att_score = queries @ keys.transpose(2,3)\n",
    "        att_score.masked_fill_(self.mask.bool()[:num_tokens,:num_tokens],-torch.inf)\n",
    "        att_weight = torch.softmax(att_score/keys.shape[-1]**0.5, dim=-1)\n",
    "        att_weight = self.dropout(att_weight)\n",
    "        context_vec = (att_weight @ values).transpose(1,2)\n",
    "        context_vec = context_vec.contiguous().view(b,num_tokens,self.d_out)\n",
    "        context_vec = self.out_proj(context_vec)\n",
    "        return context_vec"
   ]
  },
  {
   "cell_type": "markdown",
   "id": "869e45fe",
   "metadata": {},
   "source": [
    "## Define Transformer block"
   ]
  },
  {
   "cell_type": "code",
   "execution_count": null,
   "id": "98bfbbc3",
   "metadata": {},
   "outputs": [],
   "source": [
    "class TransformerBlock(nn.Module):\n",
    "    def __init__(self, cfg):\n",
    "        super().__init__()\n",
    "        self.att = MultiHeadAttendtion_new(\n",
    "            d_in= cfg[\"emb_dim\"],\n",
    "            d_out= cfg['emb_dim'],\n",
    "            context_len=  cfg['context_len'],\n",
    "            num_heads= cfg[\"n_heads\"],\n",
    "            dropout= cfg[\"drop_rate\"],\n",
    "            qkv_bias=cfg[\"qkv_bias\"]\n",
    "        )\n",
    "        self.ff =FeedForward(cfg)\n",
    "        self.norm1 = LayerNorm(cfg['emb_dim']) #norm1：用于注意力模块（self.att）的输入归一化\n",
    "        self.norm2 = LayerNorm(cfg['emb_dim']) #norm2：用于前馈网络（self.ff）的输入归一化\n",
    "        self.dropout = nn.Dropout(cfg['drop_rate'])\n",
    "        \n",
    "    \n",
    "    def forward(self,x):\n",
    "       # 注意力分支：LayerNorm -> 注意力 -> Dropout -> 残差连接\n",
    "        x = x + self.dropout(self.att(self.norm1(x))) \n",
    "        # FFN分支：LayerNorm -> FFN -> Dropout -> 残差连接\n",
    "        x = x + self.dropout(self.ff(self.norm2(x)))  \n",
    "        return x\n",
    "        \n",
    "         "
   ]
  },
  {
   "cell_type": "markdown",
   "id": "f9e411c4",
   "metadata": {},
   "source": [
    "## Define GPT Model"
   ]
  },
  {
   "cell_type": "code",
   "execution_count": null,
   "id": "8f689863",
   "metadata": {},
   "outputs": [],
   "source": [
    "class GPTModel(nn.Module):\n",
    "    def __init__(self,cfg):\n",
    "        super().__init__()\n",
    "        self.tok_emb = nn.Embedding(cfg['vocab_size'],cfg['emb_dim'])\n",
    "        self.pos_emb = nn.Embedding(cfg['context_len'],cfg['emb_dim'])\n",
    "        self.drop_emb = nn.Dropout(cfg[\"drop_rate\"])\n",
    "        self.trf_blocks =  nn.Sequential(\n",
    "            *[TransformerBlock(cfg) for _ in range(cfg[\"n_layers\"])]\n",
    "        )\n",
    "        self.final_norm = DummyLayerNorm(cfg[\"emb_dim\"])\n",
    "        self.out_head = nn.Linear(\n",
    "            cfg['emb_dim'],cfg['vocab_size'],bias=False\n",
    "        )\n",
    "       \n",
    "    def forward(self,in_idx):\n",
    "        batch_size, seq_len = in_idx.shape  #in_idx 通常是一个整数张量（Tensor），形状一般为 (batch_size, seq_len)\n",
    "        tok_embeds = self.tok_emb(in_idx) #(batch_size, seq_len, emb_dim)\n",
    "        pos_embeds = self.pos_emb(torch.arange(seq_len,device=in_idx.device))  #生成一个从 0 到 seq_len-1 的整数序列\n",
    "        x = tok_embeds + pos_embeds\n",
    "        x = self.drop_emb(x)\n",
    "        x = self.trf_blocks(x)\n",
    "        x = self.final_norm(x)\n",
    "        logits = self.out_head(x)\n",
    "        return logits\n",
    "        "
   ]
  },
  {
   "cell_type": "markdown",
   "id": "2f268a8f",
   "metadata": {},
   "source": [
    "### View structure of model "
   ]
  },
  {
   "cell_type": "code",
   "execution_count": null,
   "id": "f3934cac",
   "metadata": {},
   "outputs": [],
   "source": [
    "#GPT2 小型（Small）：12 层 Transformer 解码器，隐藏层维度 768，注意力头数 12，总参数约 1.2 亿\n",
    "@tool.skip_execution(skip=IS_SKIP_TEST)\n",
    "def test_GPT2_model():\n",
    "    CONFIG = {\n",
    "    \"num_epochs\":10,\n",
    "    \"batch_size\":2,\n",
    "    \"vocab_size\": 50257,     \n",
    "    \"context_len\": 512,  \n",
    "    \"emb_dim\": 768,          \n",
    "    \"n_heads\": 8,          \n",
    "    \"n_layers\": 12,          \n",
    "    \"drop_rate\": 0.1,       \n",
    "    \"qkv_bias\": False ,      \n",
    "    }   \n",
    "    model = GPTModel(CONFIG)\n",
    "    model.to(device)\n",
    "\n",
    "    # attention_new 参数减少量 = (304,556,544 - 163,008,000)\n",
    "    total_params =sum(p.numel() for p in model.parameters())\n",
    "\n",
    "    print(f\"Total number of parameters: {total_params:,}\") #163,008,000\n",
    "\n",
    "    #权重共享， W_emb和W_out指向同一块内存，模型训练时只会更新这一个矩阵，避免了维护两个独立矩阵的开销\n",
    "    total_params_gpt2 = total_params - sum(p.numel()for p in model.out_head.parameters())\n",
    "   \n",
    "    print(f\"Number of trainable parameters \"\n",
    "        f\"considering weight tying: {total_params_gpt2:,}\") #124,017,408\n",
    "    return model\n",
    "    \n",
    "test_GPT2_model()"
   ]
  },
  {
   "cell_type": "markdown",
   "id": "16d5c506",
   "metadata": {},
   "source": [
    "\n",
    "## Tokenizer"
   ]
  },
  {
   "cell_type": "code",
   "execution_count": null,
   "id": "f2d5e25d",
   "metadata": {},
   "outputs": [],
   "source": [
    "# ! pip install tiktoken"
   ]
  },
  {
   "cell_type": "code",
   "execution_count": null,
   "id": "17b49d68",
   "metadata": {},
   "outputs": [],
   "source": [
    "import tiktoken\n",
    "\n",
    "\n",
    "def text_to_tokenIds(text,tokenizer):\n",
    "    encoded = tokenizer.encode(text,allowed_special={'<|endoftext|>'})\n",
    "    encoded_tensor =torch.tensor(encoded).unsqueeze(0)\n",
    "    return encoded_tensor\n",
    "\n",
    "def tokenIds_to_text(token_ids,tokenizer):\n",
    "    flat =token_ids.squeeze(0)\n",
    "    return tokenizer.decode(flat.tolist())\n",
    "#max_new_tokens 生成往后n个token\n",
    "def  generate_text_greedy(model,idxs,max_new_tokens,context_size):\n",
    "    model.eval()\n",
    "    for _ in range(max_new_tokens):\n",
    "        idx_condition = idxs[:,-context_size:]\n",
    "        with torch.no_grad():\n",
    "            logits = model(idx_condition)\n",
    "            \n",
    "        #生成时：只需要最后一个位置的 logits\n",
    "        logits = logits[:,-1,:]\n",
    "        probas =torch.softmax(logits,dim=-1)\n",
    "        idx_next = torch.argmax(probas,dim=-1,keepdim=True)\n",
    "        idxs = torch.cat((idxs,idx_next),dim=1)\n",
    "    return idxs\n"
   ]
  },
  {
   "cell_type": "markdown",
   "id": "e858f138",
   "metadata": {},
   "source": [
    "### test tokenizer"
   ]
  },
  {
   "cell_type": "code",
   "execution_count": null,
   "id": "e28ba7f9",
   "metadata": {},
   "outputs": [],
   "source": [
    "@tool.skip_execution(skip=IS_SKIP_TEST)\n",
    "def test_tokenizer():\n",
    "    model =GPTModel(GPT_CONFIG)\n",
    "    test_context =\"今天的天气是晴天，适合出去走走\"\n",
    "    #test_context = \"I like the weather\"\n",
    "    print(f'{test_context}--ori')\n",
    "    tokenizer =tiktoken.get_encoding(TOKEN_TYPE)\n",
    "    tokenids =text_to_tokenIds(test_context,tokenizer)\n",
    "    print(f'{tokenIds_to_text(tokenids,tokenizer)}--recover') \n",
    "\n",
    "\n",
    "    tokenids = generate_text_greedy(model,tokenids,max_new_tokens=3,context_size=GPT_CONFIG['context_len'])\n",
    "\n",
    "    print(f'{tokenIds_to_text(tokenids,tokenizer)}--new') \n",
    "\n",
    "test_tokenizer()\n"
   ]
  },
  {
   "cell_type": "markdown",
   "id": "1cf36f81",
   "metadata": {},
   "source": [
    "Epoch 过程中查看生成的文本\n",
    "\n",
    "查看模型生成的新 token 数量（max_new_tokens）:\n",
    "* 训练监控（最常用）：20-50 个 token\n",
    "* 轻量化验证（追求效率）：10-20 个 token\n",
    "* 深度观察（关键节点）：50-100 个 token"
   ]
  },
  {
   "cell_type": "code",
   "execution_count": null,
   "id": "508d2749",
   "metadata": {},
   "outputs": [],
   "source": [
    "\n",
    "def generate_and_print(model,tokenizer,device,start_context,max_new_tokens):\n",
    "    model.eval()\n",
    "    context_size = model.pos_emb.weight.shape[0]\n",
    "    encoded = text_to_tokenIds(start_context,tokenizer).to(device)\n",
    "    with torch.no_grad():\n",
    "        token_ids = generate_text_greedy(model,idxs=encoded,max_new_tokens=max_new_tokens,context_size=context_size)\n",
    "        decoded_text = tokenIds_to_text(token_ids,tokenizer)\n",
    "    print(decoded_text.replace(\"\\n\",\" \"))\n",
    "    model.train()\n",
    "        "
   ]
  },
  {
   "cell_type": "markdown",
   "id": "0978e686",
   "metadata": {},
   "source": [
    "## Load Data"
   ]
  },
  {
   "cell_type": "markdown",
   "id": "ed716344",
   "metadata": {},
   "source": [
    "### load  txt  of en\n"
   ]
  },
  {
   "cell_type": "code",
   "execution_count": null,
   "id": "714d3269",
   "metadata": {},
   "outputs": [],
   "source": [
    "# en txt for debug\n",
    "\n",
    "def Load_data_en(file_path,train_ratio=0.8):\n",
    "    with open (file_path,\"r\",encoding=\"utf-8\") as file:\n",
    "        text_data =file.read()\n",
    "        \n",
    "    print(f'total char: {len(text_data)}') #character count\n",
    "    \n",
    "    split_idx = int(train_ratio*len(text_data))\n",
    "    train_data = text_data[:split_idx]\n",
    "    valid_data = text_data[split_idx:]\n",
    "    print(f'train char: {len(train_data)}\\nvalid char: {len(valid_data)} \\n')\n",
    "    return [train_data], [valid_data]\n"
   ]
  },
  {
   "cell_type": "markdown",
   "id": "3cd9074b",
   "metadata": {},
   "source": [
    "### load  txt of cn"
   ]
  },
  {
   "cell_type": "code",
   "execution_count": null,
   "id": "478c45a3",
   "metadata": {},
   "outputs": [],
   "source": [
    "def Load_data_cn(part=False,train_ratio=0.8):\n",
    "    txts = loaddata.load_local_data()\n",
    "    if part:\n",
    "        txts =txts[:10]\n",
    "    len(txts)\n",
    "    split_idx = int(train_ratio*len(txts))\n",
    "    train_data = txts[:split_idx]\n",
    "    valid_data = txts[split_idx:]\n",
    "    print(f'train sentence: {len(train_data)}\\nvalid sentence: {len(valid_data)} \\n')\n",
    "    return train_data,valid_data"
   ]
  },
  {
   "cell_type": "markdown",
   "id": "1b1ba29a",
   "metadata": {},
   "source": [
    "### Select which language of the text to load"
   ]
  },
  {
   "cell_type": "code",
   "execution_count": null,
   "id": "d85e6821",
   "metadata": {},
   "outputs": [],
   "source": [
    "if IS_EN :\n",
    "    file_path =\"../datasets/the-verdict.txt\"\n",
    "    train_data, valid_data =Load_data_en(file_path)\n",
    "else:\n",
    "    train_data,valid_data = Load_data_cn(True,0.8)\n",
    "    \n",
    "len(train_data)"
   ]
  },
  {
   "cell_type": "markdown",
   "id": "15db966b",
   "metadata": {},
   "source": [
    "## GPTDataLoader"
   ]
  },
  {
   "cell_type": "code",
   "execution_count": null,
   "id": "08f965de",
   "metadata": {},
   "outputs": [],
   "source": [
    "\n",
    "from torch.utils.data import DataLoader,Dataset\n",
    "\n",
    "class GPTDataset(Dataset):\n",
    "    def __init__(self, texts: list[str], tokenizer, max_len: int, stride: int):\n",
    "        super().__init__()\n",
    "        self.input_ids = []\n",
    "        self.target_ids = []\n",
    "        self.max_len = max_len\n",
    "        self.stride = stride\n",
    "        \n",
    "        for idx, text in enumerate(tqdm(texts, desc=\"Process text\")):\n",
    "            \n",
    "            if not isinstance(text, str):\n",
    "                raise TypeError(f\"The type of the {idx}-th element is {type(text)}\")\n",
    "            \n",
    "            if not text.strip():\n",
    "                continue\n",
    "            \n",
    "            # encode single text\n",
    "            tokenids = tokenizer.encode(text)\n",
    "            token_len= len(tokenids)\n",
    "            # print('token len:',token_len)\n",
    "            \n",
    "            if token_len < max_len + 1:\n",
    "                continue  # 连一个完整样本都无法生成，直接跳过\n",
    "            \n",
    "            # 计算该文本可生成的样本数\n",
    "            max_start = token_len - max_len - 1 # 最后一个有效起始位置\n",
    "            num_samples = (max_start// stride) + 1 if max_start >= 0 else 0\n",
    "            \n",
    "            if num_samples > 0:\n",
    "                # 滑动窗口生成样本\n",
    "                for i in range(0, max_start, stride):\n",
    "                    input_chunk = tokenids[i:i+max_len]\n",
    "                    target_chunk = tokenids[i+1:i+max_len+1]  # 目标是输入的下一个token\n",
    "                    if len(target_chunk) < max_len:\n",
    "                            continue  # 跳过不完整的目标\n",
    "                    self.input_ids.append(torch.tensor(input_chunk))\n",
    "                    self.target_ids.append(torch.tensor(target_chunk))\n",
    "        \n",
    "        print(f\"Total samples: {len(self.input_ids)}\")\n",
    "    \n",
    "    def __len__(self):\n",
    "        return len(self.input_ids)\n",
    "    \n",
    "    def __getitem__(self, idx):\n",
    "        try:\n",
    "            input_batch = self.input_ids[idx]\n",
    "            target_batch =self.target_ids[idx]\n",
    "            return input_batch,target_batch\n",
    "        except Exception as e:\n",
    "            print(f'Failed to load{idx}:{str(e)}')\n",
    "            raise\n",
    "    \n",
    "\n",
    "'''\n",
    "DataLoader 本质是一个批次生成器迭代索引：\n",
    "自动生成从 0 到 len(dataset)-1 的索引，通过 dataset.__getitem__(idx) 逐个获取样本\n",
    "'''\n",
    "def GPTDataloader(txt,token_type,batch_size=4,max_len=246,stride=128,shuffle=True,drop_last=True,num_works=0):\n",
    "    tokenizer =tiktoken.get_encoding(token_type)\n",
    "    ds = GPTDataset(txt,tokenizer,max_len,stride)\n",
    "    dl = DataLoader(\n",
    "        ds,\n",
    "        batch_size =batch_size,\n",
    "        shuffle=shuffle,\n",
    "        drop_last=drop_last,\n",
    "        num_workers=num_works\n",
    "    )\n",
    "    return dl"
   ]
  },
  {
   "cell_type": "code",
   "execution_count": null,
   "id": "b4745946",
   "metadata": {},
   "outputs": [],
   "source": [
    "\n",
    "train_loader = GPTDataloader(\n",
    "    train_data,\n",
    "    TOKEN_TYPE,\n",
    "    batch_size = GPT_CONFIG['batch_size'],\n",
    "    max_len = GPT_CONFIG[\"context_len\"],\n",
    "    stride = GPT_CONFIG[\"context_len\"] // 2, #适度重叠（stride = max_len // 2）\n",
    "    drop_last=True,\n",
    "    shuffle= True, #训练时打乱，验证 / 测试时不打乱：训练时打乱是为了提升泛化能力\n",
    "    num_works=0   \n",
    "    )\n",
    "\n",
    "print(F'共{len(train_loader)}个批次，'\n",
    "      f'每批{train_loader.batch_size}个样本，'\n",
    "      f'每个样本是长度为 {train_loader.dataset.max_len} 的 token 序列')\n",
    "\n",
    "\n",
    "print(\"Train loader:\")\n",
    "x, y =next(iter(train_loader))\n",
    "print(x.shape, y.shape)\n",
    "\n",
    "\n",
    "valid_loader = GPTDataloader(\n",
    "    valid_data,\n",
    "    TOKEN_TYPE,\n",
    "    batch_size = GPT_CONFIG['batch_size'],\n",
    "    max_len = GPT_CONFIG[\"context_len\"],\n",
    "    stride = GPT_CONFIG[\"context_len\"] ,\n",
    "    drop_last=False, # 验证 / 测试阶段：需要完整评估所有样本的性能，不能遗漏任何数据点\n",
    "    shuffle= False, #验证 / 测试时不打乱是为了结果可复现，方便对比不同模型的性能\n",
    "    num_works=0\n",
    "    )\n",
    "\n",
    "print(\"Validation loader:\")\n",
    "x, y =next(iter(valid_loader))\n",
    "print(x.shape, y.shape)\n"
   ]
  },
  {
   "cell_type": "markdown",
   "id": "1fbbe70e",
   "metadata": {},
   "source": [
    "## Loss funcion"
   ]
  },
  {
   "cell_type": "code",
   "execution_count": null,
   "id": "c74f53e1",
   "metadata": {},
   "outputs": [],
   "source": [
    "def calc_loss_batch(input_batch,target_batch,model,device):\n",
    "    input_batch = input_batch.to(device)\n",
    "    target_batch = target_batch.to(device)\n",
    "    logits = model(input_batch)\n",
    "    loss =torch.nn.functional.cross_entropy(logits.flatten(0,1),target_batch.flatten())\n",
    "    return loss\n",
    "\n",
    "#快速验证：指定 num_batchs=n，只跑前n个批次，节省时间。\n",
    "def calc_loss_loader(data_loader,model,device,num_batchs=None):\n",
    "    total_loss = 0\n",
    "    total_batchs =len(data_loader)\n",
    "    # print('total batch count:' ,total_batchs)\n",
    "    if  total_batchs == 0:\n",
    "        return float('nan')\n",
    "    elif num_batchs is None:\n",
    "        num_batchs = total_batchs \n",
    "    else:\n",
    "        num_batchs = min(num_batchs,total_batchs)\n",
    "    \n",
    "    for i ,(input_batch,target_batch) in enumerate(data_loader):# dataset.__getitem__(idx)\n",
    "        if i < num_batchs:\n",
    "            loss = calc_loss_batch(input_batch,target_batch,model,device)\n",
    "            total_loss += loss.item()\n",
    "        else:\n",
    "            break\n",
    "    return total_loss / num_batchs\n",
    "\n",
    "def evaluate_model(model,train_loader,valid_loader,device,eval_iter):\n",
    "    model.eval()\n",
    "    with torch.no_grad():\n",
    "        train_loss = calc_loss_loader(train_loader,model,device,num_batchs=eval_iter)\n",
    "        valid_loss = calc_loss_loader(valid_loader,model,device,num_batchs=eval_iter)\n",
    "    model.train()\n",
    "    return train_loss,valid_loss"
   ]
  },
  {
   "cell_type": "markdown",
   "id": "9f198ff6",
   "metadata": {},
   "source": [
    "### test loss function"
   ]
  },
  {
   "cell_type": "code",
   "execution_count": null,
   "id": "44f82974",
   "metadata": {},
   "outputs": [],
   "source": [
    "@tool.skip_execution(skip=IS_SKIP_TEST)\n",
    "def test_loss():\n",
    "    model = GPTModel(GPT_CONFIG)\n",
    "    calc_loss_loader(train_loader,model,device='cpu')\n",
    "\n",
    "test_loss()"
   ]
  },
  {
   "cell_type": "markdown",
   "id": "a7e8ead4",
   "metadata": {},
   "source": [
    "# Training model\n",
    "## Training function"
   ]
  },
  {
   "cell_type": "code",
   "execution_count": null,
   "id": "c831d6cc",
   "metadata": {},
   "outputs": [],
   "source": [
    "@tool.train_execution(IS_TRAIN)\n",
    "def train_model_process(model,train_loader,valid_loader,\n",
    "                        optimizer,device,num_epochs,\n",
    "                        eval_freq,eval_iter,\n",
    "                        start_context,tokenizer):\n",
    "    train_losses,val_losses= [],[]\n",
    "    track_tokens_seen =[]\n",
    "    tokens_seen,global_step = 0, -1\n",
    "    for epoch in  tqdm(range(num_epochs), desc=\"training\"):\n",
    "        model.train()\n",
    "        for input_batch,target_batch in tqdm(train_loader, desc=f\"Epoch {epoch+1}\", leave=False):\n",
    "            optimizer.zero_grad()\n",
    "            loss = calc_loss_batch(input_batch,target_batch,model,device)\n",
    "            loss.backward()\n",
    "            optimizer.step()\n",
    "            tokens_seen += input_batch.numel()\n",
    "            global_step +=1\n",
    "            \n",
    "            if global_step % eval_freq == 0:\n",
    "                train_loss, val_loss = evaluate_model(model,train_loader,valid_loader,device,eval_iter)\n",
    "                train_losses.append(train_loss)\n",
    "                val_losses.append(val_loss)\n",
    "                track_tokens_seen.append(track_tokens_seen)\n",
    "                log_writer.add_scalar('Training/Train_Loss', train_loss, global_step)\n",
    "                log_writer.add_scalar('Training/Val_Loss', val_loss, global_step)\n",
    "                print(f'EP: {epoch+1} STEP: {global_step} '\n",
    "                    f'{f\"T_LOSS: {train_loss:.3f}\" if train_loss is not None else \"T_LOSS: None \"} '\n",
    "                    f'{f\"V_LOSS: {val_loss:.3f}\" if val_loss is not None else \"V_LOSS: None\"}'\n",
    "                    )\n",
    "                generate_and_print(model,tokenizer,device,start_context,20)\n",
    "    return train_losses,val_losses,track_tokens_seen"
   ]
  },
  {
   "cell_type": "code",
   "execution_count": null,
   "id": "b33a1b88",
   "metadata": {},
   "outputs": [],
   "source": [
    "# ! tensorboard --logdir=..\\log"
   ]
  },
  {
   "cell_type": "code",
   "execution_count": null,
   "id": "755ce8f5",
   "metadata": {},
   "outputs": [],
   "source": [
    "model =GPTModel(GPT_CONFIG)\n",
    "model.to(device)\n",
    "start_context = \"I turned to Mrs\"\n",
    "optimizer = torch.optim.AdamW(model.parameters(),lr=LR,weight_decay=WEIGHT_DECAY)\n",
    "tokenizer =tiktoken.get_encoding(TOKEN_TYPE)\n",
    "train_losses,val_losses,track_tokens_seen =train_model_process(model,train_loader,valid_loader,\n",
    "                                                               optimizer,device,num_epochs=GPT_CONFIG['num_epochs'],\n",
    "                                                               eval_freq=EVAL_FREQ,eval_iter=EVAL_ITER,\n",
    "                                                               start_context=start_context,\n",
    "                                                               tokenizer=tokenizer\n",
    "                                                               )"
   ]
  },
  {
   "cell_type": "code",
   "execution_count": null,
   "id": "968b45e5",
   "metadata": {},
   "outputs": [],
   "source": [
    "log_writer.close()"
   ]
  },
  {
   "cell_type": "markdown",
   "id": "829ed6a9",
   "metadata": {},
   "source": [
    "## Save and Load  state of model\n",
    "### Save model"
   ]
  },
  {
   "cell_type": "code",
   "execution_count": null,
   "id": "ff1b0aaa",
   "metadata": {},
   "outputs": [],
   "source": [
    "torch.save({\n",
    "    \"model_state_dict\": model.state_dict(),\n",
    "    \"optimizer_state_dict\": optimizer.state_dict(),\n",
    "    },\n",
    "    \"..\\model\\model_and_optimizer.pth\"\n",
    ")"
   ]
  },
  {
   "cell_type": "markdown",
   "id": "0b6ca038",
   "metadata": {},
   "source": [
    "### Load model"
   ]
  },
  {
   "cell_type": "code",
   "execution_count": null,
   "id": "d20c7989",
   "metadata": {},
   "outputs": [],
   "source": [
    "checkpoint = torch.load(\"..\\model\\model_and_optimizer.pth\", map_location=device)\n",
    "model = GPTModel(GPT_CONFIG)\n",
    "model.load_state_dict(checkpoint[\"model_state_dict\"])\n",
    "optimizer = torch.optim.AdamW(model.parameters(), lr=5e-4, weight_decay=0.1)\n",
    "optimizer.load_state_dict(checkpoint[\"optimizer_state_dict\"])\n",
    "model.to(device)\n",
    "model.eval() "
   ]
  },
  {
   "cell_type": "markdown",
   "id": "c04242bb",
   "metadata": {},
   "source": [
    "### Test the generation capability of the saved model"
   ]
  },
  {
   "cell_type": "code",
   "execution_count": null,
   "id": "80e9e17c",
   "metadata": {},
   "outputs": [],
   "source": [
    "for _ in range(5):\n",
    "    generate_and_print(model,tokenizer,device,start_context,20)"
   ]
  }
 ],
 "metadata": {
  "kernelspec": {
   "display_name": "DL_py",
   "language": "python",
   "name": "python3"
  },
  "language_info": {
   "codemirror_mode": {
    "name": "ipython",
    "version": 3
   },
   "file_extension": ".py",
   "mimetype": "text/x-python",
   "name": "python",
   "nbconvert_exporter": "python",
   "pygments_lexer": "ipython3",
   "version": "3.10.16"
  }
 },
 "nbformat": 4,
 "nbformat_minor": 5
}
