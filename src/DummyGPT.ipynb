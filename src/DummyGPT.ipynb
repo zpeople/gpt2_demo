{
 "cells": [
  {
   "cell_type": "markdown",
   "id": "8207122a",
   "metadata": {},
   "source": [
    "# GPT-2 Model\n"
   ]
  },
  {
   "cell_type": "code",
   "execution_count": 1,
   "id": "865f44de",
   "metadata": {},
   "outputs": [
    {
     "name": "stderr",
     "output_type": "stream",
     "text": [
      "c:\\Users\\SEELE\\.conda\\envs\\DL_py\\lib\\site-packages\\tqdm\\auto.py:21: TqdmWarning: IProgress not found. Please update jupyter and ipywidgets. See https://ipywidgets.readthedocs.io/en/stable/user_install.html\n",
      "  from .autonotebook import tqdm as notebook_tqdm\n"
     ]
    },
    {
     "name": "stdout",
     "output_type": "stream",
     "text": [
      "dict_keys(['train'])\n",
      "                                          completion            source\n",
      "0  昭通机场（ZPZT）是位于中国云南昭通的民用机场，始建于1935年，1960年3月开通往返航...  wikipedia.zh2307\n",
      "1  我的英雄学院：英雄新世纪\\n《我的英雄学院剧场版：英雄新世纪》（仆のヒーローアカデミア TH...  wikipedia.zh2307\n",
      "2  黄大仙文化公园（Wong Tai Sin Culture Park）是香港一个公园，位于九龙...  wikipedia.zh2307\n",
      "3  佐洛奇夫（Zolochiv），或按俄语译为佐洛乔夫（Золочев），是乌克兰西部利沃夫州佐...  wikipedia.zh2307\n",
      "4  陈准，字道基，颍川郡许昌（今河南许昌）人。西晋官员。官至太尉。出身颍川陈氏，青州刺史陈佐之子...  wikipedia.zh2307\n",
      "254547\n",
      "load data\n",
      "函数 test_dummyModel 已跳过执行\n",
      "函数 test_layer_norm 已跳过执行\n",
      "函数 test_gelu 已跳过执行\n",
      "函数 test_tokenizer 已跳过执行\n",
      "函数 test_loss 已跳过执行\n",
      "函数 test_dummyModel 已跳过执行\n",
      "函数 test_layer_norm 已跳过执行\n",
      "函数 test_gelu 已跳过执行\n",
      "函数 test_tokenizer 已跳过执行\n",
      "函数 test_loss 已跳过执行\n",
      "函数 test_GPT2_model 已跳过执行\n"
     ]
    }
   ],
   "source": [
    "import sys\n",
    "import os\n",
    "\n",
    "# 检查是否在Jupyter环境中\n",
    "try:\n",
    "    # 如果是Jupyter，会定义这个变量\n",
    "    get_ipython\n",
    "    # 使用当前工作目录作为基准（Jupyter的工作目录）\n",
    "    current_dir = os.getcwd()\n",
    "except NameError:\n",
    "    # 普通Python环境，使用__file__\n",
    "    current_dir = os.path.dirname(os.path.abspath(__file__))\n",
    "\n",
    "# 将父目录添加到Python路径（根据你的目录结构调整）\n",
    "parent_dir = os.path.abspath(os.path.join(current_dir, '..'))\n",
    "if parent_dir not in sys.path:\n",
    "    sys.path.append(parent_dir)\n",
    "    \n",
    "import torch\n",
    "import torch.nn as nn\n",
    "from torch.testing import assert_close\n",
    "torch.manual_seed(42)\n",
    "import tool, loaddata ,model_wrapper,models\n",
    "from tqdm import tqdm\n",
    "from torch.utils.tensorboard import SummaryWriter\n",
    "import tiktoken"
   ]
  },
  {
   "cell_type": "markdown",
   "id": "55e16e88",
   "metadata": {},
   "source": [
    "### Config"
   ]
  },
  {
   "cell_type": "code",
   "execution_count": null,
   "id": "5e81c44d",
   "metadata": {},
   "outputs": [],
   "source": [
    "IS_SKIP_TEST =True\n",
    "IS_EN =True\n",
    "IS_TRAIN=False\n",
    "\n",
    "\n",
    "GPT_CONFIG = {\n",
    "    \"num_epochs\":2,\n",
    "    \"batch_size\":4,\n",
    "    \"vocab_size\": 50257,     # 词汇表大小\n",
    "    \"context_len\": 256,  # 上下文长度\n",
    "    \"emb_dim\": 768,          # 嵌入维度\n",
    "    \"n_heads\": 8,           # 注意力头的数量\n",
    "    \"n_layers\": 12,          # 层数\n",
    "    \"drop_rate\": 0.1,        # dropout率\n",
    "    \"qkv_bias\": False ,      # 查询-键-值偏置\n",
    "}\n",
    "\n",
    "TOKEN_TYPE=\"gpt2\"\n",
    "# TOKEN_TYPE=\"cl100k_base\"\n",
    "LR= 1e-3\n",
    "WEIGHT_DECAY =0.1\n",
    "\n",
    "EVAL_FREQ = 5\n",
    "EVAL_ITER = 5\n"
   ]
  },
  {
   "cell_type": "code",
   "execution_count": 3,
   "id": "d784ca60",
   "metadata": {},
   "outputs": [
    {
     "name": "stdout",
     "output_type": "stream",
     "text": [
      "Thu Aug 14 12:35:23 2025       \n",
      "+-----------------------------------------------------------------------------------------+\n",
      "| NVIDIA-SMI 560.94                 Driver Version: 560.94         CUDA Version: 12.6     |\n",
      "|-----------------------------------------+------------------------+----------------------+\n",
      "| GPU  Name                  Driver-Model | Bus-Id          Disp.A | Volatile Uncorr. ECC |\n",
      "| Fan  Temp   Perf          Pwr:Usage/Cap |           Memory-Usage | GPU-Util  Compute M. |\n",
      "|                                         |                        |               MIG M. |\n",
      "|=========================================+========================+======================|\n",
      "|   0  NVIDIA GeForce GTX 960       WDDM  |   00000000:01:00.0  On |                  N/A |\n",
      "| 30%   49C    P8             18W /  180W |    1134MiB /   4096MiB |     18%      Default |\n",
      "|                                         |                        |                  N/A |\n",
      "+-----------------------------------------+------------------------+----------------------+\n",
      "                                                                                         \n",
      "+-----------------------------------------------------------------------------------------+\n",
      "| Processes:                                                                              |\n",
      "|  GPU   GI   CI        PID   Type   Process name                              GPU Memory |\n",
      "|        ID   ID                                                               Usage      |\n",
      "|=========================================================================================|\n",
      "|    0   N/A  N/A      1628    C+G   ...CBS_cw5n1h2txyewy\\TextInputHost.exe      N/A      |\n",
      "|    0   N/A  N/A      1924    C+G   ...oogle\\Chrome\\Application\\chrome.exe      N/A      |\n",
      "|    0   N/A  N/A      2332    C+G   ...64__8wekyb3d8bbwe\\CalculatorApp.exe      N/A      |\n",
      "|    0   N/A  N/A      6752    C+G   ...siveControlPanel\\SystemSettings.exe      N/A      |\n",
      "|    0   N/A  N/A      6828    C+G   ...m Files\\TencentDocs\\TencentDocs.exe      N/A      |\n",
      "|    0   N/A  N/A      9796    C+G   ...crosoft\\Edge\\Application\\msedge.exe      N/A      |\n",
      "|    0   N/A  N/A      9924    C+G   C:\\Windows\\explorer.exe                     N/A      |\n",
      "|    0   N/A  N/A     10284    C+G   ...GeForce Experience\\NVIDIA Share.exe      N/A      |\n",
      "|    0   N/A  N/A     11432    C+G   ...2txyewy\\StartMenuExperienceHost.exe      N/A      |\n",
      "|    0   N/A  N/A     12036    C+G   ....Search_cw5n1h2txyewy\\SearchApp.exe      N/A      |\n",
      "|    0   N/A  N/A     13380    C+G   ....Search_cw5n1h2txyewy\\SearchApp.exe      N/A      |\n",
      "|    0   N/A  N/A     13388    C+G   ...t.LockApp_cw5n1h2txyewy\\LockApp.exe      N/A      |\n",
      "|    0   N/A  N/A     14824    C+G   ...al\\Discord\\app-1.0.9202\\Discord.exe      N/A      |\n",
      "|    0   N/A  N/A     17248    C+G   ...l\\Doubao\\Application\\app\\Doubao.exe      N/A      |\n",
      "|    0   N/A  N/A     17512    C+G   ...2.0_x64__w1wdnht996qgy\\LinkedIn.exe      N/A      |\n",
      "|    0   N/A  N/A     18012    C+G   E:\\Microsoft VS Code\\Code.exe               N/A      |\n",
      "|    0   N/A  N/A     18964    C+G   ...n\\138.0.3351.121\\msedgewebview2.exe      N/A      |\n",
      "|    0   N/A  N/A     19568    C+G   ...n\\138.0.3351.121\\msedgewebview2.exe      N/A      |\n",
      "|    0   N/A  N/A     20284    C+G   ...5n1h2txyewy\\ShellExperienceHost.exe      N/A      |\n",
      "|    0   N/A  N/A     21756    C+G   ...GeForce Experience\\NVIDIA Share.exe      N/A      |\n",
      "|    0   N/A  N/A     21912    C+G   ...1915\\office6\\promecefpluginhost.exe      N/A      |\n",
      "|    0   N/A  N/A     23200      C   ...\\SEELE\\.conda\\envs\\DL_py\\python.exe      N/A      |\n",
      "+-----------------------------------------------------------------------------------------+\n"
     ]
    }
   ],
   "source": [
    "! nvidia-smi"
   ]
  },
  {
   "cell_type": "markdown",
   "id": "217e2af6",
   "metadata": {},
   "source": [
    "### Set device to (type='cuda')"
   ]
  },
  {
   "cell_type": "code",
   "execution_count": 4,
   "id": "2cb94447",
   "metadata": {},
   "outputs": [
    {
     "data": {
      "text/plain": [
       "device(type='cuda')"
      ]
     },
     "execution_count": 4,
     "metadata": {},
     "output_type": "execute_result"
    }
   ],
   "source": [
    "device = torch.device(\"cuda\" if torch.cuda.is_available() else \"cpu\")\n",
    "device"
   ]
  },
  {
   "cell_type": "markdown",
   "id": "7e8f4f13",
   "metadata": {},
   "source": [
    "### Tensorboard Log"
   ]
  },
  {
   "cell_type": "code",
   "execution_count": 5,
   "id": "434f8031",
   "metadata": {},
   "outputs": [
    {
     "name": "stdout",
     "output_type": "stream",
     "text": [
      "Start experiment: 2025-08-14_12-35-23\n"
     ]
    }
   ],
   "source": [
    "# 创建一个日志写入器\n",
    "import time\n",
    "starttime = time.strftime(\"%Y-%m-%d_%H-%M-%S\")\n",
    "print(\"Start experiment:\", starttime)\n",
    "logpath =\"../log/\"\n",
    "log_writer = SummaryWriter(log_dir=logpath+starttime[:16],comment=starttime[:16],flush_secs=60)#以实验时间命名\n"
   ]
  },
  {
   "cell_type": "markdown",
   "id": "0978e686",
   "metadata": {},
   "source": [
    "## Load Data"
   ]
  },
  {
   "cell_type": "markdown",
   "id": "1b1ba29a",
   "metadata": {},
   "source": [
    "### Select which language of the text to load"
   ]
  },
  {
   "cell_type": "code",
   "execution_count": 6,
   "id": "d85e6821",
   "metadata": {},
   "outputs": [
    {
     "name": "stdout",
     "output_type": "stream",
     "text": [
      "total char: 20479\n",
      "train char: 16383\n",
      "valid char: 4096 \n",
      "\n"
     ]
    },
    {
     "data": {
      "text/plain": [
       "1"
      ]
     },
     "execution_count": 6,
     "metadata": {},
     "output_type": "execute_result"
    }
   ],
   "source": [
    "if IS_EN :\n",
    "    file_path =\"../datasets/the-verdict.txt\"\n",
    "    train_data, valid_data =loaddata.load_data_en(file_path)\n",
    "else:\n",
    "    train_data, valid_data = loaddata.load_data_cn(True,0.8)\n",
    "    \n",
    "len(train_data)"
   ]
  },
  {
   "cell_type": "markdown",
   "id": "15db966b",
   "metadata": {},
   "source": [
    "## GPTDataLoader"
   ]
  },
  {
   "cell_type": "code",
   "execution_count": 7,
   "id": "b4745946",
   "metadata": {},
   "outputs": [],
   "source": [
    "@tool.train_execution(IS_TRAIN)\n",
    "def Dataloadering():\n",
    "    train_loader = model_wrapper.GPTDataloader(\n",
    "        train_data,\n",
    "        TOKEN_TYPE,\n",
    "        batch_size = GPT_CONFIG['batch_size'],\n",
    "        max_len = GPT_CONFIG[\"context_len\"],\n",
    "        stride = GPT_CONFIG[\"context_len\"] // 2, #适度重叠（stride = max_len // 2）\n",
    "        drop_last=True,\n",
    "        shuffle= True, #训练时打乱，验证 / 测试时不打乱：训练时打乱是为了提升泛化能力\n",
    "        num_works=0   \n",
    "        )\n",
    "\n",
    "    print(F'共{len(train_loader)}个批次，'\n",
    "        f'每批{train_loader.batch_size}个样本，'\n",
    "        f'每个样本是长度为 {train_loader.dataset.max_len} 的 token 序列')\n",
    "\n",
    "\n",
    "    print(\"Train loader:\")\n",
    "    if len(train_loader)<10: #只在测试的时候查看一下数据，数据过大，耗时很长\n",
    "        x, y =next(iter(train_loader))\n",
    "        print(x.shape, y.shape)\n",
    "\n",
    "\n",
    "    valid_loader = model_wrapper.GPTDataloader(\n",
    "        valid_data,\n",
    "        TOKEN_TYPE,\n",
    "        batch_size = GPT_CONFIG['batch_size'],\n",
    "        max_len = GPT_CONFIG[\"context_len\"],\n",
    "        stride = GPT_CONFIG[\"context_len\"] ,\n",
    "        drop_last=False, # 验证 / 测试阶段：需要完整评估所有样本的性能，不能遗漏任何数据点\n",
    "        shuffle= False, #验证 / 测试时不打乱是为了结果可复现，方便对比不同模型的性能\n",
    "        num_works=0\n",
    "        )\n",
    "\n",
    "    print(\"Validation loader:\")\n",
    "    if len(valid_loader)<10:\n",
    "        x, y =next(iter(valid_loader))\n",
    "        print(x.shape, y.shape)\n",
    "        \n",
    "    return train_loader,valid_loader"
   ]
  },
  {
   "cell_type": "markdown",
   "id": "a7e8ead4",
   "metadata": {},
   "source": [
    "## Training model\n",
    "### Training process function"
   ]
  },
  {
   "cell_type": "code",
   "execution_count": 8,
   "id": "c831d6cc",
   "metadata": {},
   "outputs": [],
   "source": [
    "\n",
    "def train_model_process(model,train_loader,valid_loader,\n",
    "                        optimizer,device,num_epochs,\n",
    "                        eval_freq,eval_iter,\n",
    "                        start_context,tokenizer):\n",
    "    train_losses,val_losses= [],[]\n",
    "    track_tokens_seen =[]\n",
    "    tokens_seen,global_step = 0, -1\n",
    "    for epoch in  tqdm(range(num_epochs), desc=\"training\"):\n",
    "        model.train() #开启训练 启用dropout、启用Batchnorm\n",
    "        for input_batch,target_batch in tqdm(train_loader, desc=f\"Epoch {epoch+1}\", leave=False):\n",
    "            optimizer.zero_grad()\n",
    "            loss = model_wrapper.calc_loss_batch(input_batch,target_batch,model,device) \n",
    "            loss.backward()\n",
    "            optimizer.step()\n",
    "            tokens_seen += input_batch.numel()\n",
    "            global_step +=1\n",
    "            \n",
    "            if global_step % eval_freq == 0:\n",
    "                train_loss, val_loss = model_wrapper.evaluate_model(model,train_loader,valid_loader,device,eval_iter)\n",
    "                train_losses.append(train_loss)\n",
    "                val_losses.append(val_loss)\n",
    "                track_tokens_seen.append(tokens_seen)\n",
    "                log_writer.add_scalar('Training/Train_Loss', train_loss, global_step)\n",
    "                log_writer.add_scalar('Training/Val_Loss', val_loss, global_step)\n",
    "                print(f'EP: {epoch+1} STEP: {global_step} '\n",
    "                    f'{f\"T_LOSS: {train_loss:.3f}\" if train_loss is not None else \"T_LOSS: None \"} '\n",
    "                    f'{f\"V_LOSS: {val_loss:.3f}\" if val_loss is not None else \"V_LOSS: None\"}'\n",
    "                    )\n",
    "                model_wrapper.generate_and_print(model,tokenizer,device,start_context,20)\n",
    "    return train_losses,val_losses,track_tokens_seen"
   ]
  },
  {
   "cell_type": "code",
   "execution_count": 9,
   "id": "b33a1b88",
   "metadata": {},
   "outputs": [],
   "source": [
    "# ! tensorboard --logdir=../log  --port=6006 --host=0.0.0.0  \n",
    "# ssh -L 8888:localhost:6006 zzz@172.23.207.112    "
   ]
  },
  {
   "cell_type": "code",
   "execution_count": 10,
   "id": "755ce8f5",
   "metadata": {},
   "outputs": [
    {
     "name": "stderr",
     "output_type": "stream",
     "text": [
      "Process text: 100%|██████████| 1/1 [00:00<00:00, 111.15it/s]\n"
     ]
    },
    {
     "name": "stdout",
     "output_type": "stream",
     "text": [
      "Total samples: 31\n",
      "共7个批次，每批4个样本，每个样本是长度为 256 的 token 序列\n",
      "Train loader:\n",
      "torch.Size([4, 256]) torch.Size([4, 256])\n"
     ]
    },
    {
     "name": "stderr",
     "output_type": "stream",
     "text": [
      "Process text: 100%|██████████| 1/1 [00:00<00:00, 500.22it/s]\n"
     ]
    },
    {
     "name": "stdout",
     "output_type": "stream",
     "text": [
      "Total samples: 4\n",
      "Validation loader:\n",
      "torch.Size([4, 256]) torch.Size([4, 256])\n"
     ]
    },
    {
     "name": "stderr",
     "output_type": "stream",
     "text": [
      "training:   0%|          | 0/2 [00:00<?, ?it/s]"
     ]
    },
    {
     "name": "stdout",
     "output_type": "stream",
     "text": [
      "EP: 1 STEP: 0 T_LOSS: 9.528 V_LOSS: 9.845\n"
     ]
    },
    {
     "name": "stderr",
     "output_type": "stream",
     "text": []
    },
    {
     "name": "stdout",
     "output_type": "stream",
     "text": [
      "I turned to Mrs,,,,,,,,,,,,,,,,,,,,\n"
     ]
    },
    {
     "name": "stderr",
     "output_type": "stream",
     "text": []
    },
    {
     "name": "stdout",
     "output_type": "stream",
     "text": [
      "EP: 1 STEP: 5 T_LOSS: 6.593 V_LOSS: 7.131\n"
     ]
    },
    {
     "name": "stderr",
     "output_type": "stream",
     "text": []
    },
    {
     "name": "stdout",
     "output_type": "stream",
     "text": [
      "I turned to Mrs                    \n"
     ]
    },
    {
     "name": "stderr",
     "output_type": "stream",
     "text": [
      "training:  50%|█████     | 1/2 [00:33<00:33, 33.12s/it]"
     ]
    },
    {
     "name": "stdout",
     "output_type": "stream",
     "text": [
      "EP: 2 STEP: 10 T_LOSS: 5.860 V_LOSS: 7.168\n"
     ]
    },
    {
     "name": "stderr",
     "output_type": "stream",
     "text": []
    },
    {
     "name": "stdout",
     "output_type": "stream",
     "text": [
      "I turned to Mrs.                   \n"
     ]
    },
    {
     "name": "stderr",
     "output_type": "stream",
     "text": [
      "training: 100%|██████████| 2/2 [01:04<00:00, 32.03s/it]\n"
     ]
    },
    {
     "data": {
      "text/plain": [
       "([9.527825546264648, 6.592583560943604, 5.8596649169921875],\n",
       " [9.844965934753418, 7.13070821762085, 7.168105602264404],\n",
       " [1024, 6144, 11264])"
      ]
     },
     "execution_count": 10,
     "metadata": {},
     "output_type": "execute_result"
    }
   ],
   "source": [
    "modelpath ='../model/gpt2.pt'\n",
    "start_context = \"I turned to Mrs\"\n",
    "tokenizer = tiktoken.get_encoding(TOKEN_TYPE)\n",
    "\n",
    "\n",
    "@tool.train_execution(IS_TRAIN)\n",
    "def training(savemodel=False):\n",
    "    model = models.GPTModel(GPT_CONFIG)\n",
    "    model.to(device)\n",
    "    optimizer = torch.optim.AdamW(model.parameters(),lr=LR,weight_decay=WEIGHT_DECAY)\n",
    "    train_loader,valid_loader = Dataloadering()\n",
    "    result=train_model_process(model,train_loader,valid_loader,\n",
    "                                                                optimizer,device,num_epochs=GPT_CONFIG['num_epochs'],\n",
    "                                                                eval_freq=EVAL_FREQ,eval_iter=EVAL_ITER,\n",
    "                                                                start_context=start_context,\n",
    "                                                                tokenizer=tokenizer\n",
    "                                                                )\n",
    "    if savemodel:\n",
    "        model_wrapper.savemodel(modelpath,model,optimizer,GPT_CONFIG)  \n",
    "        \n",
    "    return result\n",
    "\n",
    "training(True)\n",
    "\n"
   ]
  },
  {
   "cell_type": "code",
   "execution_count": 11,
   "id": "968b45e5",
   "metadata": {},
   "outputs": [],
   "source": [
    "log_writer.close()"
   ]
  },
  {
   "cell_type": "markdown",
   "id": "829ed6a9",
   "metadata": {},
   "source": [
    "## Load the parameters of the model"
   ]
  },
  {
   "cell_type": "markdown",
   "id": "0b6ca038",
   "metadata": {},
   "source": [
    "Load the model parameters saved for model checking"
   ]
  },
  {
   "cell_type": "code",
   "execution_count": 12,
   "id": "d20c7989",
   "metadata": {},
   "outputs": [
    {
     "name": "stdout",
     "output_type": "stream",
     "text": [
      "True\n"
     ]
    },
    {
     "data": {
      "text/plain": [
       "GPTModel(\n",
       "  (tok_emb): Embedding(50257, 768)\n",
       "  (pos_emb): Embedding(256, 768)\n",
       "  (drop_emb): Dropout(p=0.1, inplace=False)\n",
       "  (trf_blocks): Sequential(\n",
       "    (0): TransformerBlock(\n",
       "      (att): MultiHeadAttendtion_new(\n",
       "        (W_q): Linear(in_features=768, out_features=768, bias=False)\n",
       "        (W_k): Linear(in_features=768, out_features=768, bias=False)\n",
       "        (W_v): Linear(in_features=768, out_features=768, bias=False)\n",
       "        (out_proj): Linear(in_features=768, out_features=768, bias=True)\n",
       "        (dropout): Dropout(p=0.1, inplace=False)\n",
       "      )\n",
       "      (ff): FeedForward(\n",
       "        (layers): Sequential(\n",
       "          (0): Linear(in_features=768, out_features=3072, bias=True)\n",
       "          (1): GELU()\n",
       "          (2): Dropout(p=0.1, inplace=False)\n",
       "          (3): Linear(in_features=3072, out_features=768, bias=True)\n",
       "        )\n",
       "      )\n",
       "      (norm1): LayerNorm()\n",
       "      (norm2): LayerNorm()\n",
       "      (dropout): Dropout(p=0.1, inplace=False)\n",
       "    )\n",
       "    (1): TransformerBlock(\n",
       "      (att): MultiHeadAttendtion_new(\n",
       "        (W_q): Linear(in_features=768, out_features=768, bias=False)\n",
       "        (W_k): Linear(in_features=768, out_features=768, bias=False)\n",
       "        (W_v): Linear(in_features=768, out_features=768, bias=False)\n",
       "        (out_proj): Linear(in_features=768, out_features=768, bias=True)\n",
       "        (dropout): Dropout(p=0.1, inplace=False)\n",
       "      )\n",
       "      (ff): FeedForward(\n",
       "        (layers): Sequential(\n",
       "          (0): Linear(in_features=768, out_features=3072, bias=True)\n",
       "          (1): GELU()\n",
       "          (2): Dropout(p=0.1, inplace=False)\n",
       "          (3): Linear(in_features=3072, out_features=768, bias=True)\n",
       "        )\n",
       "      )\n",
       "      (norm1): LayerNorm()\n",
       "      (norm2): LayerNorm()\n",
       "      (dropout): Dropout(p=0.1, inplace=False)\n",
       "    )\n",
       "    (2): TransformerBlock(\n",
       "      (att): MultiHeadAttendtion_new(\n",
       "        (W_q): Linear(in_features=768, out_features=768, bias=False)\n",
       "        (W_k): Linear(in_features=768, out_features=768, bias=False)\n",
       "        (W_v): Linear(in_features=768, out_features=768, bias=False)\n",
       "        (out_proj): Linear(in_features=768, out_features=768, bias=True)\n",
       "        (dropout): Dropout(p=0.1, inplace=False)\n",
       "      )\n",
       "      (ff): FeedForward(\n",
       "        (layers): Sequential(\n",
       "          (0): Linear(in_features=768, out_features=3072, bias=True)\n",
       "          (1): GELU()\n",
       "          (2): Dropout(p=0.1, inplace=False)\n",
       "          (3): Linear(in_features=3072, out_features=768, bias=True)\n",
       "        )\n",
       "      )\n",
       "      (norm1): LayerNorm()\n",
       "      (norm2): LayerNorm()\n",
       "      (dropout): Dropout(p=0.1, inplace=False)\n",
       "    )\n",
       "    (3): TransformerBlock(\n",
       "      (att): MultiHeadAttendtion_new(\n",
       "        (W_q): Linear(in_features=768, out_features=768, bias=False)\n",
       "        (W_k): Linear(in_features=768, out_features=768, bias=False)\n",
       "        (W_v): Linear(in_features=768, out_features=768, bias=False)\n",
       "        (out_proj): Linear(in_features=768, out_features=768, bias=True)\n",
       "        (dropout): Dropout(p=0.1, inplace=False)\n",
       "      )\n",
       "      (ff): FeedForward(\n",
       "        (layers): Sequential(\n",
       "          (0): Linear(in_features=768, out_features=3072, bias=True)\n",
       "          (1): GELU()\n",
       "          (2): Dropout(p=0.1, inplace=False)\n",
       "          (3): Linear(in_features=3072, out_features=768, bias=True)\n",
       "        )\n",
       "      )\n",
       "      (norm1): LayerNorm()\n",
       "      (norm2): LayerNorm()\n",
       "      (dropout): Dropout(p=0.1, inplace=False)\n",
       "    )\n",
       "    (4): TransformerBlock(\n",
       "      (att): MultiHeadAttendtion_new(\n",
       "        (W_q): Linear(in_features=768, out_features=768, bias=False)\n",
       "        (W_k): Linear(in_features=768, out_features=768, bias=False)\n",
       "        (W_v): Linear(in_features=768, out_features=768, bias=False)\n",
       "        (out_proj): Linear(in_features=768, out_features=768, bias=True)\n",
       "        (dropout): Dropout(p=0.1, inplace=False)\n",
       "      )\n",
       "      (ff): FeedForward(\n",
       "        (layers): Sequential(\n",
       "          (0): Linear(in_features=768, out_features=3072, bias=True)\n",
       "          (1): GELU()\n",
       "          (2): Dropout(p=0.1, inplace=False)\n",
       "          (3): Linear(in_features=3072, out_features=768, bias=True)\n",
       "        )\n",
       "      )\n",
       "      (norm1): LayerNorm()\n",
       "      (norm2): LayerNorm()\n",
       "      (dropout): Dropout(p=0.1, inplace=False)\n",
       "    )\n",
       "    (5): TransformerBlock(\n",
       "      (att): MultiHeadAttendtion_new(\n",
       "        (W_q): Linear(in_features=768, out_features=768, bias=False)\n",
       "        (W_k): Linear(in_features=768, out_features=768, bias=False)\n",
       "        (W_v): Linear(in_features=768, out_features=768, bias=False)\n",
       "        (out_proj): Linear(in_features=768, out_features=768, bias=True)\n",
       "        (dropout): Dropout(p=0.1, inplace=False)\n",
       "      )\n",
       "      (ff): FeedForward(\n",
       "        (layers): Sequential(\n",
       "          (0): Linear(in_features=768, out_features=3072, bias=True)\n",
       "          (1): GELU()\n",
       "          (2): Dropout(p=0.1, inplace=False)\n",
       "          (3): Linear(in_features=3072, out_features=768, bias=True)\n",
       "        )\n",
       "      )\n",
       "      (norm1): LayerNorm()\n",
       "      (norm2): LayerNorm()\n",
       "      (dropout): Dropout(p=0.1, inplace=False)\n",
       "    )\n",
       "    (6): TransformerBlock(\n",
       "      (att): MultiHeadAttendtion_new(\n",
       "        (W_q): Linear(in_features=768, out_features=768, bias=False)\n",
       "        (W_k): Linear(in_features=768, out_features=768, bias=False)\n",
       "        (W_v): Linear(in_features=768, out_features=768, bias=False)\n",
       "        (out_proj): Linear(in_features=768, out_features=768, bias=True)\n",
       "        (dropout): Dropout(p=0.1, inplace=False)\n",
       "      )\n",
       "      (ff): FeedForward(\n",
       "        (layers): Sequential(\n",
       "          (0): Linear(in_features=768, out_features=3072, bias=True)\n",
       "          (1): GELU()\n",
       "          (2): Dropout(p=0.1, inplace=False)\n",
       "          (3): Linear(in_features=3072, out_features=768, bias=True)\n",
       "        )\n",
       "      )\n",
       "      (norm1): LayerNorm()\n",
       "      (norm2): LayerNorm()\n",
       "      (dropout): Dropout(p=0.1, inplace=False)\n",
       "    )\n",
       "    (7): TransformerBlock(\n",
       "      (att): MultiHeadAttendtion_new(\n",
       "        (W_q): Linear(in_features=768, out_features=768, bias=False)\n",
       "        (W_k): Linear(in_features=768, out_features=768, bias=False)\n",
       "        (W_v): Linear(in_features=768, out_features=768, bias=False)\n",
       "        (out_proj): Linear(in_features=768, out_features=768, bias=True)\n",
       "        (dropout): Dropout(p=0.1, inplace=False)\n",
       "      )\n",
       "      (ff): FeedForward(\n",
       "        (layers): Sequential(\n",
       "          (0): Linear(in_features=768, out_features=3072, bias=True)\n",
       "          (1): GELU()\n",
       "          (2): Dropout(p=0.1, inplace=False)\n",
       "          (3): Linear(in_features=3072, out_features=768, bias=True)\n",
       "        )\n",
       "      )\n",
       "      (norm1): LayerNorm()\n",
       "      (norm2): LayerNorm()\n",
       "      (dropout): Dropout(p=0.1, inplace=False)\n",
       "    )\n",
       "    (8): TransformerBlock(\n",
       "      (att): MultiHeadAttendtion_new(\n",
       "        (W_q): Linear(in_features=768, out_features=768, bias=False)\n",
       "        (W_k): Linear(in_features=768, out_features=768, bias=False)\n",
       "        (W_v): Linear(in_features=768, out_features=768, bias=False)\n",
       "        (out_proj): Linear(in_features=768, out_features=768, bias=True)\n",
       "        (dropout): Dropout(p=0.1, inplace=False)\n",
       "      )\n",
       "      (ff): FeedForward(\n",
       "        (layers): Sequential(\n",
       "          (0): Linear(in_features=768, out_features=3072, bias=True)\n",
       "          (1): GELU()\n",
       "          (2): Dropout(p=0.1, inplace=False)\n",
       "          (3): Linear(in_features=3072, out_features=768, bias=True)\n",
       "        )\n",
       "      )\n",
       "      (norm1): LayerNorm()\n",
       "      (norm2): LayerNorm()\n",
       "      (dropout): Dropout(p=0.1, inplace=False)\n",
       "    )\n",
       "    (9): TransformerBlock(\n",
       "      (att): MultiHeadAttendtion_new(\n",
       "        (W_q): Linear(in_features=768, out_features=768, bias=False)\n",
       "        (W_k): Linear(in_features=768, out_features=768, bias=False)\n",
       "        (W_v): Linear(in_features=768, out_features=768, bias=False)\n",
       "        (out_proj): Linear(in_features=768, out_features=768, bias=True)\n",
       "        (dropout): Dropout(p=0.1, inplace=False)\n",
       "      )\n",
       "      (ff): FeedForward(\n",
       "        (layers): Sequential(\n",
       "          (0): Linear(in_features=768, out_features=3072, bias=True)\n",
       "          (1): GELU()\n",
       "          (2): Dropout(p=0.1, inplace=False)\n",
       "          (3): Linear(in_features=3072, out_features=768, bias=True)\n",
       "        )\n",
       "      )\n",
       "      (norm1): LayerNorm()\n",
       "      (norm2): LayerNorm()\n",
       "      (dropout): Dropout(p=0.1, inplace=False)\n",
       "    )\n",
       "    (10): TransformerBlock(\n",
       "      (att): MultiHeadAttendtion_new(\n",
       "        (W_q): Linear(in_features=768, out_features=768, bias=False)\n",
       "        (W_k): Linear(in_features=768, out_features=768, bias=False)\n",
       "        (W_v): Linear(in_features=768, out_features=768, bias=False)\n",
       "        (out_proj): Linear(in_features=768, out_features=768, bias=True)\n",
       "        (dropout): Dropout(p=0.1, inplace=False)\n",
       "      )\n",
       "      (ff): FeedForward(\n",
       "        (layers): Sequential(\n",
       "          (0): Linear(in_features=768, out_features=3072, bias=True)\n",
       "          (1): GELU()\n",
       "          (2): Dropout(p=0.1, inplace=False)\n",
       "          (3): Linear(in_features=3072, out_features=768, bias=True)\n",
       "        )\n",
       "      )\n",
       "      (norm1): LayerNorm()\n",
       "      (norm2): LayerNorm()\n",
       "      (dropout): Dropout(p=0.1, inplace=False)\n",
       "    )\n",
       "    (11): TransformerBlock(\n",
       "      (att): MultiHeadAttendtion_new(\n",
       "        (W_q): Linear(in_features=768, out_features=768, bias=False)\n",
       "        (W_k): Linear(in_features=768, out_features=768, bias=False)\n",
       "        (W_v): Linear(in_features=768, out_features=768, bias=False)\n",
       "        (out_proj): Linear(in_features=768, out_features=768, bias=True)\n",
       "        (dropout): Dropout(p=0.1, inplace=False)\n",
       "      )\n",
       "      (ff): FeedForward(\n",
       "        (layers): Sequential(\n",
       "          (0): Linear(in_features=768, out_features=3072, bias=True)\n",
       "          (1): GELU()\n",
       "          (2): Dropout(p=0.1, inplace=False)\n",
       "          (3): Linear(in_features=3072, out_features=768, bias=True)\n",
       "        )\n",
       "      )\n",
       "      (norm1): LayerNorm()\n",
       "      (norm2): LayerNorm()\n",
       "      (dropout): Dropout(p=0.1, inplace=False)\n",
       "    )\n",
       "  )\n",
       "  (final_norm): LayerNorm()\n",
       "  (out_head): Linear(in_features=768, out_features=50257, bias=False)\n",
       ")"
      ]
     },
     "execution_count": 12,
     "metadata": {},
     "output_type": "execute_result"
    }
   ],
   "source": [
    "checkpoint = torch.load(modelpath, map_location=device)\n",
    "config = checkpoint[\"config\"]\n",
    "print(config==GPT_CONFIG)\n",
    "model = models.GPTModel(config)\n",
    "model.load_state_dict(checkpoint[\"model_state_dict\"])\n",
    "optimizer = torch.optim.AdamW(model.parameters(), lr=LR, weight_decay=WEIGHT_DECAY)\n",
    "optimizer.load_state_dict(checkpoint[\"optimizer_state_dict\"])\n",
    "model.to(device)\n"
   ]
  },
  {
   "cell_type": "markdown",
   "id": "c04242bb",
   "metadata": {},
   "source": [
    "### Test the generation capability of the saved model"
   ]
  },
  {
   "cell_type": "code",
   "execution_count": 13,
   "id": "80e9e17c",
   "metadata": {},
   "outputs": [
    {
     "name": "stdout",
     "output_type": "stream",
     "text": [
      "I turned to Mrs he him painting----'t the it by his of a as was his was I as of the the for the been the on the's been,.\"'s him the to you him you up-- her--. him the.\" on you for me the ofroud was't been and him it about he you a.\" his in his theis had the my the it not have I toburn had to as with _ all \" the-- _-'t a-- his about.\" G as on in\n",
      "I turned to Mrs he androud it by his Jack--I- the-- was the that. his me had the.I in was it the be's been of by--is at my the,\",\" his--.\"I _ and his-- Iburn that to on his his I the her,\" me. G that the up of the. G,\" beenis that, itis to toburn-- of in foris as the-, and she the to of a of he-- all was a be't\n",
      "I turned to Mrs me's to you and so with he of it-- so to had with, it been her. \" that for up---- his myis. in, I me in ais you it an with of the to, and to-- that, but ofburn. you the my of.  such the on-'s, on herburn so.\" .-- him so,\" the! the for an the my of _ painting his, so in Iroud about a his I-- been a\n",
      "I turned to Mrs be-- a he had was his it me- him-- her-- G soisroud it with-- on I of, the it had a my on of you.\" G he of of the by it _'t, to the picture!, all the have-- of. I I but that-- his the my \"burn to. his of so--'s that anis me.\" his.\" painting--burn meburn on of,\",\" a Jack me- the, I on her my on\n",
      "I turned to Mrs to her it \" no me of on-- a his not and me his been my \"--I so. to _ of to of it to so-- of her in-- of of his. G a of.  The-- in he she on of of been-- a he it with.I it--burn theburn. such of the I-- was on to.\"isburn, with all a a it in-- soburn my. G the his his he on you in with that\n"
     ]
    }
   ],
   "source": [
    "for _ in range(5):\n",
    "    model_wrapper.generate_and_print(model,tokenizer,device,start_context,100,0.8,50,1,50256)"
   ]
  }
 ],
 "metadata": {
  "kernelspec": {
   "display_name": "DL_py",
   "language": "python",
   "name": "python3"
  },
  "language_info": {
   "codemirror_mode": {
    "name": "ipython",
    "version": 3
   },
   "file_extension": ".py",
   "mimetype": "text/x-python",
   "name": "python",
   "nbconvert_exporter": "python",
   "pygments_lexer": "ipython3",
   "version": "3.10.16"
  }
 },
 "nbformat": 4,
 "nbformat_minor": 5
}
